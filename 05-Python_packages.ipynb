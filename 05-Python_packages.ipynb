{
 "cells": [
  {
   "attachments": {},
   "cell_type": "markdown",
   "id": "d9185f38-2134-407f-af1f-34a772154e05",
   "metadata": {},
   "source": [
    "# 05 - Python packages\n",
    "\n",
    "So far, we have mainly used base Python. However, the true power of Python comes from its large (and growing) archive of third-party packages.\n",
    "\n",
    "These packages have made Python a popular language for:\n",
    "- web development\n",
    "- machine learning\n",
    "- task automation\n",
    "- data manipulation and visualization\n",
    "- web scraping\n",
    "- +++\n",
    "\n",
    "Anaconda comes bundled with with the standard packages used in scientific computing (+300 packages!).\n",
    "\n",
    "In this notebook, we will explore some of the **Python packages** that are especially useful for analyzing analytical problems."
   ]
  },
  {
   "cell_type": "code",
   "execution_count": null,
   "id": "10f2cf31-1eda-4f64-a4ea-f76dc975f734",
   "metadata": {},
   "outputs": [],
   "source": []
  },
  {
   "cell_type": "markdown",
   "id": "73bb970f-5cbf-4ca5-9b97-1f13801e092d",
   "metadata": {},
   "source": [
    "## [random](https://docs.python.org/3/library/random.html)\n",
    "\n",
    "We have already used the `randint` function from `random` to draw a random integer between a lower and upper bound. However, the `random` module has many other useful functions to generating random draws."
   ]
  },
  {
   "cell_type": "code",
   "execution_count": null,
   "id": "bd4fbb97-c4c6-4bf7-824e-7a1738d73055",
   "metadata": {},
   "outputs": [],
   "source": [
    "import random"
   ]
  },
  {
   "cell_type": "markdown",
   "id": "cee2c4c3-05aa-4991-aced-789c903b0e41",
   "metadata": {},
   "source": [
    "For example, we can use `choice` and `choices` to draw one or multiple items from a sequence of items such as a list or string."
   ]
  },
  {
   "cell_type": "code",
   "execution_count": null,
   "id": "b185cd10-24a3-4192-8d6c-967852b05a86",
   "metadata": {},
   "outputs": [],
   "source": [
    "letters = 'abcdefghijklmnopqrstuvwxyz'\n",
    "digits = '0123456789'\n",
    "symbols = '+-*/?!@#$%&'"
   ]
  },
  {
   "cell_type": "code",
   "execution_count": null,
   "id": "9a7820f2-a967-4e48-913d-9439219f40a2",
   "metadata": {},
   "outputs": [],
   "source": [
    "random.choice(symbols)"
   ]
  },
  {
   "cell_type": "code",
   "execution_count": null,
   "id": "505edfd7-e4db-47c4-8fc9-b0789af6e397",
   "metadata": {},
   "outputs": [],
   "source": [
    "random.choices(letters, k = 3)"
   ]
  },
  {
   "cell_type": "markdown",
   "id": "9e4fa13f-96b3-4107-ade1-411c179aa734",
   "metadata": {},
   "source": [
    "We can use `shuffle` to randomly reorder a list of items. Note that this function alters the list *inplace*."
   ]
  },
  {
   "cell_type": "code",
   "execution_count": null,
   "id": "7e3451fb-842a-43aa-9877-6470ae894110",
   "metadata": {},
   "outputs": [],
   "source": [
    "nums = [0, 1, 2, 3, 4, 5, 6, 7, 8, 9]"
   ]
  },
  {
   "cell_type": "code",
   "execution_count": null,
   "id": "55d4c1f9-887f-4502-81b4-70468e959eb4",
   "metadata": {},
   "outputs": [],
   "source": [
    "random.shuffle(nums)"
   ]
  },
  {
   "cell_type": "code",
   "execution_count": null,
   "id": "788f5c2c-040c-4133-9127-c0d408ceb3fa",
   "metadata": {},
   "outputs": [],
   "source": [
    "nums"
   ]
  },
  {
   "cell_type": "markdown",
   "id": "93a5a141-5c1e-4ed2-8900-508248553797",
   "metadata": {},
   "source": [
    "Note that instead of importing the entire package, we can use the `import` statement to import only specific functions."
   ]
  },
  {
   "cell_type": "code",
   "execution_count": null,
   "id": "b04a468b-61c6-4c95-9f9d-7801e07733a9",
   "metadata": {},
   "outputs": [],
   "source": [
    "from random import choices, shuffle"
   ]
  },
  {
   "cell_type": "markdown",
   "id": "8ec7b534-d5c2-46d3-a8a4-ec34e14b2eaa",
   "metadata": {},
   "source": [
    "The benfit of this is that we no longer need to specify the package name when we want to use the functions."
   ]
  },
  {
   "cell_type": "code",
   "execution_count": null,
   "id": "7b4c266b-e2a6-4c6e-9aba-617f36a610ac",
   "metadata": {},
   "outputs": [],
   "source": [
    "choices([1, 2, 3, 4, 5, 6], k = 2)"
   ]
  },
  {
   "cell_type": "code",
   "execution_count": null,
   "id": "d9f58baf-8098-4d22-aa09-bf4e8c8b24ef",
   "metadata": {},
   "outputs": [],
   "source": []
  },
  {
   "cell_type": "markdown",
   "id": "7adbc66a-d2a1-4620-b76d-e07bcf6f3bad",
   "metadata": {},
   "source": [
    "## [numpy](https://numpy.org/doc/stable/user/absolute_beginners.html)\n",
    "\n",
    "`numpy` is the fundamental package for scientific computing in Python. Specifically, it allows us to create multidimensional arrays (i.e., vectors and matrices), and it has a large library of functions to perform fast operations on these data structures."
   ]
  },
  {
   "cell_type": "markdown",
   "id": "a30b517a-2e4e-453a-9c28-1c3607f5aba4",
   "metadata": {},
   "source": [
    "> 📝 **Note:** It is convention to import `numpy` by giving it the shorter alias `np`."
   ]
  },
  {
   "cell_type": "code",
   "execution_count": null,
   "id": "2739842c-0f63-4dce-9821-535cdbb727cc",
   "metadata": {},
   "outputs": [],
   "source": [
    "import numpy as np"
   ]
  },
  {
   "cell_type": "markdown",
   "id": "f9586e88-10ef-44cf-b9f8-03e2c6bbb9c5",
   "metadata": {},
   "source": [
    "`numpy` allows us to create vectors and matrices by using the `array` data type. \n",
    "\n",
    "We create a one-dimensional matrix (i.e. a vector) by passing a *list* of numbers to the `array` function."
   ]
  },
  {
   "cell_type": "code",
   "execution_count": null,
   "id": "221d986c-c5e7-4389-b669-bfa0afb6b2f0",
   "metadata": {},
   "outputs": [],
   "source": [
    "vec = np.array([2, 1, 5, 3, 7, 4, 6, 8])\n",
    "\n",
    "vec"
   ]
  },
  {
   "cell_type": "code",
   "execution_count": null,
   "id": "e0246424-b022-4fff-a5ff-617345521705",
   "metadata": {},
   "outputs": [],
   "source": [
    "vec.ndim # One-dimensional"
   ]
  },
  {
   "cell_type": "code",
   "execution_count": null,
   "id": "7b657756-1753-4419-96b7-fa9519b2e9ad",
   "metadata": {},
   "outputs": [],
   "source": [
    "vec.shape # Eight \"rows\""
   ]
  },
  {
   "cell_type": "markdown",
   "id": "91ab2a4d-382a-409a-98b9-ea4382212d83",
   "metadata": {},
   "source": [
    "We can perform many of the same operations on arrays as we did on lists containing only numbers."
   ]
  },
  {
   "cell_type": "code",
   "execution_count": null,
   "id": "38e99b01-d5d3-4bb2-b68f-36bc6bc526c7",
   "metadata": {},
   "outputs": [],
   "source": [
    "vec.min()"
   ]
  },
  {
   "cell_type": "code",
   "execution_count": null,
   "id": "54ec2855-f8c0-4419-9c79-c3244cbd68c7",
   "metadata": {},
   "outputs": [],
   "source": [
    "vec.max()"
   ]
  },
  {
   "cell_type": "code",
   "execution_count": null,
   "id": "47d71579-5913-46a6-8475-84012e5d21a1",
   "metadata": {},
   "outputs": [],
   "source": [
    "vec.sum()"
   ]
  },
  {
   "cell_type": "markdown",
   "id": "6b6c8fb9-d907-4eb3-97d3-279cf4058466",
   "metadata": {},
   "source": [
    "However, the benefit of using a numpy `array` instead of e.g. a list is that we can perform vector operations, e.g., multiplying a vector with a constant."
   ]
  },
  {
   "cell_type": "code",
   "execution_count": null,
   "id": "68d02890-6cf2-4cfa-b146-46e1f38df958",
   "metadata": {},
   "outputs": [],
   "source": [
    "num_lst = [0, 1, 2, 3, 4, 5, 6, 7, 8, 9]\n",
    "\n",
    "num_lst*2"
   ]
  },
  {
   "cell_type": "code",
   "execution_count": null,
   "id": "2e1e0fdf-7c65-43fa-a50c-0c3b4758cfb2",
   "metadata": {},
   "outputs": [],
   "source": [
    "num_array = np.array([0, 1, 2, 3, 4, 5, 6, 7, 8, 9])\n",
    "\n",
    "num_array*2"
   ]
  },
  {
   "cell_type": "markdown",
   "id": "95a8e639-dd9a-4fec-8c87-265658256b17",
   "metadata": {},
   "source": [
    "We can also multiply arrays with each other (as long as they have the same dimensions)."
   ]
  },
  {
   "cell_type": "code",
   "execution_count": null,
   "id": "b7001253-48b3-4043-9a8e-896ab01216a4",
   "metadata": {},
   "outputs": [],
   "source": [
    "arr1 = np.array([1, 2, 3])\n",
    "arr2 = np.array([1.6, 5, 1])\n",
    "\n",
    "arr1 * arr2"
   ]
  },
  {
   "cell_type": "markdown",
   "id": "7dcc074c-7d62-4f3d-8068-098bec008f3e",
   "metadata": {},
   "source": [
    "A two-dimensional array (matrix) is created by passing a *nested* list of numbers to the `array` function."
   ]
  },
  {
   "cell_type": "code",
   "execution_count": null,
   "id": "e29130fd-08e0-4405-a229-1a6e890f3d5a",
   "metadata": {},
   "outputs": [],
   "source": [
    "mat = np.array([[1, 2, 3], [4, 5, 6]])\n",
    "\n",
    "mat"
   ]
  },
  {
   "cell_type": "code",
   "execution_count": null,
   "id": "c7d0a23b-a0ea-4bd4-abff-1694e8d193a4",
   "metadata": {},
   "outputs": [],
   "source": [
    "mat.ndim # Two-dimensional"
   ]
  },
  {
   "cell_type": "code",
   "execution_count": null,
   "id": "8abd5c26-1426-4f24-8fe9-9fb201c2573a",
   "metadata": {},
   "outputs": [],
   "source": [
    "mat.shape # 2 \"rows\" and 3 \"columns\""
   ]
  },
  {
   "cell_type": "markdown",
   "id": "45d26336-b2bf-4f83-916e-58962add5a13",
   "metadata": {},
   "source": [
    "We can use the `sum` functions to sum either the rows or the columns of the matrix."
   ]
  },
  {
   "cell_type": "code",
   "execution_count": null,
   "id": "a1e094f4-12e1-4c77-8888-83a5d07fafbe",
   "metadata": {},
   "outputs": [],
   "source": [
    "mat.sum(axis = 0) # sum columns\n",
    "#mat.sum(axis = 1) # sum rows"
   ]
  },
  {
   "cell_type": "markdown",
   "id": "702e0ebc-78e9-48d9-b474-f056bf004270",
   "metadata": {},
   "source": [
    "As before, we can multiply two-dimensional arrays (as long as the number of columns of the first matrix is the same as the number of rows in the second matrix)."
   ]
  },
  {
   "cell_type": "code",
   "execution_count": null,
   "id": "6afa865e-6e48-4f77-9022-b9c9fc410f8f",
   "metadata": {},
   "outputs": [],
   "source": [
    "mat * arr1"
   ]
  },
  {
   "cell_type": "markdown",
   "id": "dccb8586-7a3d-427a-b789-34544d789e7f",
   "metadata": {},
   "source": [
    "In addition, `numpy` contains some useful functions for generating sequences of numbers.\n",
    "\n",
    "We can use both `linspace` and `arange` to create arrays of evenly spaced numbers over a specified interval."
   ]
  },
  {
   "cell_type": "code",
   "execution_count": null,
   "id": "ff1aaf44-df9d-40b4-a44c-764dcb1ed4bf",
   "metadata": {},
   "outputs": [],
   "source": [
    "np.linspace(1, 10, 10) # start, stop, number of values"
   ]
  },
  {
   "cell_type": "code",
   "execution_count": null,
   "id": "e5d9213e-7448-497e-8b20-b29f1ccd0dad",
   "metadata": {},
   "outputs": [],
   "source": [
    "np.arange(1, 10, 1) # start, stop, step size"
   ]
  },
  {
   "cell_type": "markdown",
   "id": "e979bc55-126a-4fc4-812c-8d4eb4764d2a",
   "metadata": {},
   "source": [
    "<div class=\"alert alert-info\">\n",
    "<h3> Your turn</h3>\n",
    "    <p> <b>Example 9.2.2</b> Measured in miligrams per litre, the concentration of a drug in the bloodstream, $t$ hours after injection, is given by the formula $c(t) = t/(t^2 + 4)$, for $t \\geq 0$. \n",
    "\n",
    "Use the formula above to calculate the concentration of the drug in the bloodstream for $t \\in(0,24)$.\n",
    "</div>"
   ]
  },
  {
   "cell_type": "code",
   "execution_count": 2,
   "id": "112e7704-902f-4283-8b13-82d4a09823f4",
   "metadata": {},
   "outputs": [
    {
     "name": "stdout",
     "output_type": "stream",
     "text": [
      "Time (hours) | Concentration (mg/L)\n",
      "-----------------------------------\n",
      "     0      |      0.0000      \n",
      "     1      |      0.2000      \n",
      "     2      |      0.2500      \n",
      "     3      |      0.2308      \n",
      "     4      |      0.2000      \n",
      "     5      |      0.1724      \n",
      "     6      |      0.1500      \n",
      "     7      |      0.1321      \n",
      "     8      |      0.1176      \n",
      "     9      |      0.1059      \n",
      "    10      |      0.0962      \n",
      "    11      |      0.0880      \n",
      "    12      |      0.0811      \n",
      "    13      |      0.0751      \n",
      "    14      |      0.0700      \n",
      "    15      |      0.0655      \n",
      "    16      |      0.0615      \n",
      "    17      |      0.0580      \n",
      "    18      |      0.0549      \n",
      "    19      |      0.0521      \n",
      "    20      |      0.0495      \n",
      "    21      |      0.0472      \n",
      "    22      |      0.0451      \n",
      "    23      |      0.0432      \n",
      "    24      |      0.0414      \n"
     ]
    }
   ],
   "source": [
    "#solution with list\n",
    "t_lst = [t for in range(0,25,1)]\n",
    "c_lst = [t/t**2+4)]\n",
    "\n",
    "import numpy as np\n",
    "t = np.arange(0, 25)  # includes 24\n",
    "c = t / (t**2 + 4)\n",
    "print(\"Time (hours) | Concentration (mg/L)\")\n",
    "print(\"-\" * 35)\n",
    "for time, conc in zip(t, c):\n",
    "    print(f\"{time:^11} | {conc:^17.4f}\")"
   ]
  },
  {
   "cell_type": "code",
   "execution_count": null,
   "id": "9080d746-e1a4-449f-9734-12831d7ed48d",
   "metadata": {},
   "outputs": [],
   "source": []
  },
  {
   "cell_type": "markdown",
   "id": "50d8af5a-7bd0-4d09-9617-1baa10a62222",
   "metadata": {},
   "source": [
    "## [matplotlib](https://matplotlib.org/stable/users/explain/quick_start.html#quick-start)\n",
    "\n",
    "`matplotlib` is the main package for plotting and visualizing data in Python. Although there are several other popular packages for plotting in Python (e.g., seaborn), these packages are mainly built on-top of `matplotlib`. We usually import only the `pyplot` submodule, as this module contains the functions most often used for plotting."
   ]
  },
  {
   "cell_type": "markdown",
   "id": "35914da1-7bfc-4381-8e5b-71df66bd6a75",
   "metadata": {},
   "source": [
    "> 📝 **Note:** It is convention to import `matplotlib.pyplot` by giving it the shorter alias `plt`."
   ]
  },
  {
   "cell_type": "code",
   "execution_count": 5,
   "id": "fe5fb0e6-d53c-4bca-b236-73670e7fa932",
   "metadata": {},
   "outputs": [],
   "source": [
    "import matplotlib.pyplot as plt"
   ]
  },
  {
   "cell_type": "markdown",
   "id": "c6118d4e-b9bb-4ec0-9e9d-f4cb80c8a0b7",
   "metadata": {},
   "source": [
    "We can use the `plot` function to create a simple line plot between a sequence of x-values and a sequence of y-values."
   ]
  },
  {
   "cell_type": "code",
   "execution_count": 6,
   "id": "03092f0b-0216-49e1-b3bb-cd83804a7008",
   "metadata": {},
   "outputs": [],
   "source": [
    "x = [0, 1, 2, 3, 4, 5, 6, 7, 8, 9]\n",
    "y = [9, 8, 7, 6, 5, 4, 3, 2, 1, 0]"
   ]
  },
  {
   "cell_type": "markdown",
   "id": "ad16b191-67c4-4e1d-b8e7-8aed205aded3",
   "metadata": {},
   "source": [
    "As a default, the first sequence of values is plotted on the x-axis, and the second sequence of values is plotted on the y-axis."
   ]
  },
  {
   "cell_type": "code",
   "execution_count": 7,
   "id": "59a3954e-fdf3-4326-aa80-8f0cf76e3c21",
   "metadata": {},
   "outputs": [
    {
     "data": {
      "image/png": "[encoded data removed]",
      "text/plain": [
       "<Figure size 640x480 with 1 Axes>"
      ]
     },
     "metadata": {},
     "output_type": "display_data"
    }
   ],
   "source": [
    "plt.plot(x, y) \n",
    "plt.grid()\n",
    "plt.show() "
   ]
  },
  {
   "cell_type": "markdown",
   "id": "d245fe41-e070-4da9-b684-79ac30dd5ad0",
   "metadata": {},
   "source": [
    "We can plot multiple lines in the same graph by making multiple function calls to `plot`."
   ]
  },
  {
   "cell_type": "code",
   "execution_count": 8,
   "id": "50e1d340-32ca-407a-93cc-b9c16309f41c",
   "metadata": {},
   "outputs": [
    {
     "data": {
      "image/png": "[encoded data removed]",
      "text/plain": [
       "<Figure size 640x480 with 1 Axes>"
      ]
     },
     "metadata": {},
     "output_type": "display_data"
    }
   ],
   "source": [
    "plt.plot(x, y)\n",
    "plt.plot(x, x)\n",
    "plt.grid()\n",
    "plt.show()"
   ]
  },
  {
   "cell_type": "markdown",
   "id": "93e85e1c-e312-421c-a782-e398db91ecf9",
   "metadata": {},
   "source": [
    "We can specify the `label` parameter in `plot` and use the `legend` function to denote which line is which."
   ]
  },
  {
   "cell_type": "code",
   "execution_count": null,
   "id": "b2a4f620-9d87-4bfa-aab9-73b09992697a",
   "metadata": {},
   "outputs": [],
   "source": [
    "plt.plot(x, y, label = 'Line 1')\n",
    "plt.plot(x, x, label = 'Line 2')\n",
    "plt.legend()\n",
    "plt.grid()\n",
    "plt.show()"
   ]
  },
  {
   "cell_type": "markdown",
   "id": "229d5809-9fe6-40c8-b2bf-7226aedcd5fd",
   "metadata": {},
   "source": [
    "We can also use the functions `xlabel` and `ylabel` to label the axes in the figure."
   ]
  },
  {
   "cell_type": "code",
   "execution_count": null,
   "id": "653b738a-ba57-4ee5-9d5b-c44a059f9585",
   "metadata": {},
   "outputs": [],
   "source": [
    "plt.plot(x, y, label = 'Line 1')\n",
    "plt.plot(x, x, label = 'Line 2')\n",
    "plt.xlabel('x-axis')\n",
    "plt.ylabel('y-axis')\n",
    "plt.legend()\n",
    "plt.grid()\n",
    "plt.show()"
   ]
  },
  {
   "attachments": {},
   "cell_type": "markdown",
   "id": "acaa3336-5fd8-49f3-b9ee-f46ac0df9ec7",
   "metadata": {},
   "source": [
    "**Example 9.2.2:** Measured in miligrams per litre, the concentration of a drug in the bloodstream, $t$ hours after injection, is given by the formula $c(t) = t/(t^2 + 4)$, for $t \\geq 0$. Find the time and amount of maximum concentration."
   ]
  },
  {
   "cell_type": "markdown",
   "id": "80d297d0-e11d-41d5-9422-291452bd5243",
   "metadata": {},
   "source": [
    "Let us solve this problem visually by plotting the concentration of the drug in the bloodstream at the hour $t$.\n",
    "\n",
    "First, we calculate the concentration in the bloodstream at each hour from 0 to 24 hours after the injection."
   ]
  },
  {
   "cell_type": "code",
   "execution_count": null,
   "id": "65d435ac-d5c9-4522-b9e0-7a26a78bd26f",
   "metadata": {},
   "outputs": [],
   "source": [
    "t = np.arange(0, 25) \n",
    "c = t / (t**2 + 4) \n",
    "\n",
    "c"
   ]
  },
  {
   "cell_type": "markdown",
   "id": "c1ad709b-e691-45a3-88f8-2a4e9e20ca7c",
   "metadata": {},
   "source": [
    "Second, we plot the concentration of the drug on the y-axis and the hour on the x-axis."
   ]
  },
  {
   "cell_type": "code",
   "execution_count": 9,
   "id": "31e4c68a-c608-4e91-ba00-805930100003",
   "metadata": {},
   "outputs": [
    {
     "data": {
      "image/png": "[encoded data removed]",
      "text/plain": [
       "<Figure size 640x480 with 1 Axes>"
      ]
     },
     "metadata": {},
     "output_type": "display_data"
    }
   ],
   "source": [
    "plt.plot(t, c)\n",
    "plt.xlabel('Hour')\n",
    "plt.ylabel('Concentration (mg/l)')\n",
    "plt.grid() \n",
    "plt.show()"
   ]
  },
  {
   "cell_type": "markdown",
   "id": "a6678c4d-6bb8-4062-8677-c1c2f8bb5e00",
   "metadata": {},
   "source": [
    "From the plot, we conlude that the maximum concentration of the drug in the bloodstream occurs between 0 and 5 hours after the injection, with a maximum concentration of approximately 0.25 mg/l."
   ]
  },
  {
   "cell_type": "markdown",
   "id": "5d77c2bd-8335-4d2c-b82f-855ab9c1f97a",
   "metadata": {},
   "source": [
    "<div class=\"alert alert-info\">\n",
    "<h3> Your turn</h3>\n",
    "    <p> <b>Exercise 9.2.1</b> Let $y$ denote the weekly average quantity of pork produced in Chicago during 1948, in millions of pounds, and let $x$ be the total weekly work effort, in thousands of hours. A study estimated the relation $y=-2.05 + 1.06x - 0.04x^2$. \n",
    "        \n",
    "Determine the value of $x$ that maximizes $y$ visually by plotting the relationship between pork production and weekely work effort when $x \\in (2,20)$.\n",
    "</div>\n",
    "\n"
   ]
  },
  {
   "cell_type": "code",
   "execution_count": 16,
   "id": "3b0e3f80-448b-4fd0-a51d-c427eb86067f",
   "metadata": {},
   "outputs": [
    {
     "data": {
      "image/png": "[encoded data removed]",
      "text/plain": [
       "<Figure size 640x480 with 1 Axes>"
      ]
     },
     "metadata": {},
     "output_type": "display_data"
    }
   ],
   "source": [
    "pork_production = np.arange(2,20)\n",
    "weekely_work = -2.05 + 1.06 * pork_production - 0.04 * pork_production**2\n",
    "plt.plot(pork_production, weekely_work)\n",
    "plt.xlabel(\"labour (in thousands of hours\")\n",
    "plt.ylabel(\"production (in millions\")\n",
    "plt.title(\"weekly average pork production\")\n",
    "plt.grid()\n",
    "plt.show()\n"
   ]
  },
  {
   "cell_type": "code",
   "execution_count": null,
   "id": "088d1956-61a7-44e1-ba34-d53190676e30",
   "metadata": {},
   "outputs": [],
   "source": []
  },
  {
   "cell_type": "markdown",
   "id": "77956ddb-63b1-4fd0-aad0-ec0ea15862f5",
   "metadata": {},
   "source": [
    "## [sympy](https://docs.sympy.org/latest/tutorials/intro-tutorial/index.html)\n",
    "\n",
    "`sympy` is a Python library for symbolic mathematics. It allows us to compute mathematical objects symbolically, which means that the objects are represented exactly, and not approximately (i.e., no rounding-errors)."
   ]
  },
  {
   "cell_type": "code",
   "execution_count": 17,
   "id": "9edafd77-4628-4d02-b4e1-f922a5addfde",
   "metadata": {},
   "outputs": [],
   "source": [
    "import sympy as sp"
   ]
  },
  {
   "cell_type": "code",
   "execution_count": null,
   "id": "88735c04-7fcb-44ec-a461-641f4412799b",
   "metadata": {},
   "outputs": [],
   "source": [
    "# Rounding after 16 decimals\n",
    "np.sqrt(2)"
   ]
  },
  {
   "cell_type": "code",
   "execution_count": null,
   "id": "067619a3-15db-44b9-971b-3d5feac0591c",
   "metadata": {},
   "outputs": [],
   "source": [
    "# No rounding\n",
    "sp.sqrt(2)"
   ]
  },
  {
   "cell_type": "markdown",
   "id": "42f698f7-ecf0-42f7-a44d-777ff908559b",
   "metadata": {},
   "source": [
    "`sympy` allows us to do calculus with Python. Spesifically, we can use `sympy` to take derivatives, compute integrals and limits, and solve equations.\n",
    "\n",
    "In `sympy`, variables are defined using the `symbols` function. Importantly, variables must be defined before they are used."
   ]
  },
  {
   "cell_type": "code",
   "execution_count": null,
   "id": "a41f9699-c0b8-450b-a33a-b3bf63757444",
   "metadata": {},
   "outputs": [],
   "source": [
    "x = sp.symbols('x')"
   ]
  },
  {
   "cell_type": "markdown",
   "id": "f0b34be5-96e6-4dfd-b992-9ed2516f0001",
   "metadata": {},
   "source": [
    "We can use `limit` to find the limit of an expression. `limit` requires an expression, followed by the variable and the value that the variable tends to.\n",
    "\n",
    "For example, let us determine the following: $$ \\lim_{x\\to-2} (x^2 + 5x) $$"
   ]
  },
  {
   "cell_type": "code",
   "execution_count": null,
   "id": "a2df2333-2494-4e8d-b8a7-6334fbd009ce",
   "metadata": {},
   "outputs": [],
   "source": [
    "sp.limit(x**2 + 5*x, x, -2)"
   ]
  },
  {
   "cell_type": "markdown",
   "id": "42d40aff-eefc-4066-9214-f359fb7fbd4a",
   "metadata": {},
   "source": [
    "Another common operation in calculus is to solve equations, which we can do with the use of `solveset` in `sympy`. The first parameter is the equation that we want to solve, and the second parameter is the variable that we want to solve for. Note that `solveset` assumes that the equation is equal to 0.\n",
    "\n",
    "For example, let us solve the equation $x^2-1 = 0$."
   ]
  },
  {
   "cell_type": "code",
   "execution_count": null,
   "id": "f443be89-1bd0-41cb-9def-e5690a91724a",
   "metadata": {},
   "outputs": [],
   "source": [
    "sp.solveset(x**2 - 1, x)"
   ]
  },
  {
   "cell_type": "markdown",
   "id": "8b310d48-0cd9-4456-878d-d913eb752576",
   "metadata": {},
   "source": [
    "We can also solve an equation with multiple variables. However, we must first define all variables as symbols.\n",
    "\n",
    "For example, let us solve the following equation $x-y=0$."
   ]
  },
  {
   "cell_type": "code",
   "execution_count": null,
   "id": "b1303537-1765-4369-b203-340b59a15f00",
   "metadata": {},
   "outputs": [],
   "source": [
    "x, y = sp.symbols('x y')"
   ]
  },
  {
   "cell_type": "code",
   "execution_count": null,
   "id": "f61747e5-6b2d-4353-b38b-90053b67337b",
   "metadata": {},
   "outputs": [],
   "source": [
    "sp.solveset(x-y, x)"
   ]
  },
  {
   "cell_type": "markdown",
   "id": "914b9094-fdf4-4265-99e9-5d0b243d290d",
   "metadata": {},
   "source": [
    "Note that when the equation does not have a solution, `solveset` will return the empty set $\\emptyset$.\n",
    "\n",
    "For example, let us solve the equation $e^x=0$."
   ]
  },
  {
   "cell_type": "code",
   "execution_count": null,
   "id": "092b89f5-d534-43e4-8842-b34e2b64b9b6",
   "metadata": {},
   "outputs": [],
   "source": [
    "sp.solveset(sp.exp(x), x) "
   ]
  },
  {
   "cell_type": "markdown",
   "id": "9508d663-a810-467e-a98f-60fd5db7e599",
   "metadata": {},
   "source": [
    "To solve a system of equations, i.e., multiple equations, we can use the `solve` method.\n",
    "\n",
    "For example, let us solve the following system of equations:\n",
    "\n",
    "$$x + z - 1 = 0$$\n",
    "\n",
    "$$x  + 2z - 3 = 0$$"
   ]
  },
  {
   "cell_type": "markdown",
   "id": "ad1e4c8d-6a87-41a3-87c6-10ed2244c9c6",
   "metadata": {},
   "source": [
    "However, note that the equations and the variables must be passed as *lists* to `solve`. "
   ]
  },
  {
   "cell_type": "code",
   "execution_count": null,
   "id": "193b746c-19f5-4736-824d-9ad1ccedda94",
   "metadata": {},
   "outputs": [],
   "source": [
    "x, z = sp.symbols('x z')\n",
    "\n",
    "sp.solve([x + z - 1, x + 2*z - 3], [x, z])"
   ]
  },
  {
   "cell_type": "markdown",
   "id": "a57a3adf-160b-4948-9166-6bb889d0b238",
   "metadata": {},
   "source": [
    "> 📝 **Note:** `solve` can also be used to solve a single equation."
   ]
  },
  {
   "cell_type": "markdown",
   "id": "ae713511-7792-4c5d-8fa5-01bc4626d0fc",
   "metadata": {},
   "source": [
    "<div class=\"alert alert-info\">\n",
    "<h3> Your turn</h3>\n",
    "    <p> <b>Exercise 12.2.6</b> Trygve Haavelmo (1911-1999), a Norwegian Nobel prize-winning economist, devised a model of the US economy for the years 1929-1941 that is based on the following four equations:\n",
    "\n",
    "(i) $C = 0.712Y + 95.05$\n",
    "\n",
    "(ii) $Y = C + X- S$\n",
    "\n",
    "(iii) $S = 0.158(C + X) - 34.30$\n",
    "\n",
    "(iv) $X = 93.53$\n",
    "\n",
    "Here $X$ denotes total investment, $Y$ is disposable income, $S$ is the total saving by firms, and $C$ is total consumption. Find the solution to the system.\n",
    "</div>"
   ]
  },
  {
   "cell_type": "code",
   "execution_count": 18,
   "id": "b10b18ff-1f42-4f78-9940-8baa25ea3bf9",
   "metadata": {},
   "outputs": [
    {
     "data": {
      "text/plain": [
       "{C: 438.314512804123,\n",
       " S: 49.7314330230514,\n",
       " X: 93.5300000000000,\n",
       " Y: 482.113079781071}"
      ]
     },
     "execution_count": 18,
     "metadata": {},
     "output_type": "execute_result"
    }
   ],
   "source": [
    "# Define the variables\n",
    "C, Y, X, S = sp.symbols('C Y X S')\n",
    "\n",
    "# Define the equations\n",
    "eq1 = sp.Eq(C, 0.712*Y + 95.05)\n",
    "eq2 = sp.Eq(Y, C + X - S)\n",
    "eq3 = sp.Eq(S, 0.158*(C + X) - 34.30)\n",
    "eq4 = sp.Eq(X, 93.53)\n",
    "\n",
    "# Solve the system of equations\n",
    "solution = sp.solve((eq1, eq2, eq3, eq4), (C, Y, X, S))\n",
    "\n",
    "# Display the solution\n",
    "solution"
   ]
  },
  {
   "cell_type": "markdown",
   "id": "6768c319-f7d7-4851-bcc5-a1b71360f087",
   "metadata": {},
   "source": [
    "We can use the `diff` function to take derivatives.\n",
    "\n",
    "For example, let us compute the derivative of the function $y = x^4$. "
   ]
  },
  {
   "cell_type": "code",
   "execution_count": null,
   "id": "2789cd12-94ff-41aa-9cb9-9d947cc92291",
   "metadata": {},
   "outputs": [],
   "source": [
    "x = sp.symbols('x')\n",
    "\n",
    "sp.diff(x**4)"
   ]
  },
  {
   "cell_type": "markdown",
   "id": "47801244-faa5-4ebd-8b47-7484e041f373",
   "metadata": {},
   "source": [
    "`diff` can calculate higher-order derivatives as well. To find a higher-order derivative, we pass the variable as many times as we wish to differentiate the expression (or simply pass the number of the derivative after the variable)."
   ]
  },
  {
   "cell_type": "code",
   "execution_count": null,
   "id": "916b3823-5d07-4221-ad30-73a2c1e26cc5",
   "metadata": {},
   "outputs": [],
   "source": [
    "# Second-order derivative\n",
    "sp.diff(x**4, x, x)\n",
    "#sp.diff(x**4, x, 2)"
   ]
  },
  {
   "cell_type": "markdown",
   "id": "b3058ccf-bdf0-4724-b9d5-d089e025912a",
   "metadata": {},
   "source": [
    "We can also use `diff` to calculate the partial derivative of an expression with multiple variables.\n",
    "\n",
    "For example, let us compute the derivative of $x^4y^3$ with resepct to $x$."
   ]
  },
  {
   "cell_type": "code",
   "execution_count": null,
   "id": "f56a9f08-c6e9-4692-b94a-85a01b6d3695",
   "metadata": {},
   "outputs": [],
   "source": [
    "x, y = sp.symbols('x y')\n",
    "\n",
    "sp.diff(x**4*y**3, x)"
   ]
  },
  {
   "cell_type": "markdown",
   "id": "ebe515ad-3fdd-4518-8e87-80f42ce004b2",
   "metadata": {},
   "source": [
    "As before, we can also calculate second-order derivatives (both direct and cross derivatives)."
   ]
  },
  {
   "cell_type": "code",
   "execution_count": null,
   "id": "72903ec2-c9a9-4716-a5df-7607ece42f54",
   "metadata": {},
   "outputs": [],
   "source": [
    "sp.diff(x**4*y**3, x, x) # f_xx"
   ]
  },
  {
   "cell_type": "code",
   "execution_count": null,
   "id": "d4a8468b-9462-4724-ab69-92a575d0b147",
   "metadata": {},
   "outputs": [],
   "source": [
    "sp.diff(x**4*y**3, x, y) # f_xy"
   ]
  },
  {
   "cell_type": "markdown",
   "id": "eeb0afc2-b57e-46a4-9d1f-17425e34f3dd",
   "metadata": {},
   "source": [
    "**Example 9.2.2:** Measured in miligrams per litre, the concentration of a drug in the bloodstream, $t$ hours after injection, is given by the formula $c(t) = t/(t^2 + 4)$, for $t \\geq 0$. Find the time and amount of maximum concentration."
   ]
  },
  {
   "cell_type": "markdown",
   "id": "7df6f76b-6ab9-4760-b3b5-df850f774ece",
   "metadata": {},
   "source": [
    "Let us now solve the exercise analytically. Recall that the maximum and minimum points of a function $f(x)$ are where the derivative (slope) of the the function is zero $f'(x) = 0$.  \n",
    "\n",
    "First, we take the derivative of the concentration of the drug in the bllodstream with respect to time, $c'(t)$."
   ]
  },
  {
   "cell_type": "code",
   "execution_count": null,
   "id": "de6a191c-8baf-43a1-a58c-d798f66b8607",
   "metadata": {},
   "outputs": [],
   "source": [
    "t = sp.symbols('t')\n",
    "c_prime = sp.diff(t / (t**2 + 4), t)\n",
    "\n",
    "c_prime"
   ]
  },
  {
   "cell_type": "markdown",
   "id": "62685824-e39b-4b89-a305-8f1abd8ae33d",
   "metadata": {},
   "source": [
    "Second, we solve the equation $c'(t)=0$. "
   ]
  },
  {
   "cell_type": "code",
   "execution_count": null,
   "id": "3eab8011-3930-4a31-8fce-948feda1d221",
   "metadata": {},
   "outputs": [],
   "source": [
    "sp.solveset(c_prime, t)"
   ]
  },
  {
   "cell_type": "markdown",
   "id": "c38e8bfc-5d17-4469-a347-d1d2b7d9136a",
   "metadata": {},
   "source": [
    "The equation has two solutions. However, since time must be non-negative ($t\\geq 0$), we conclude that the maximum concentration of the drug in the bloodstream occurs 2 hours after the injection."
   ]
  },
  {
   "cell_type": "markdown",
   "id": "54c7b833-29ee-4b0d-b65f-949dddfd38c5",
   "metadata": {},
   "source": [
    "<div class=\"alert alert-info\">\n",
    "<h3> Your turn</h3>\n",
    "    <p> <b>Exercise 9.2.1</b> Let $y$ denote the weekly average quantity of pork produced in Chicago during 1948, in millions of pounds, and let $x$ be the total weekly work effort, in thousands of hours. A study estimated the relation $y=-2.05 + 1.06x - 0.04x^2$. \n",
    "        \n",
    "Determine the value of $x$ that maximizes $y$.\n",
    "\n",
    "</div>"
   ]
  },
  {
   "cell_type": "code",
   "execution_count": 19,
   "id": "f562f8b9-7976-4987-bd99-728debf4a635",
   "metadata": {},
   "outputs": [
    {
     "name": "stdout",
     "output_type": "stream",
     "text": [
      "First derivative: 1.06 - 0.08*x\n",
      "Critical point(s): [13.2500000000000]\n",
      "Second derivative: -0.0800000000000000\n",
      "Second derivative at x = 13.2500000000000: -0.0800000000000000\n",
      "x = 13.2500000000000 is a maximum\n",
      "Maximum y value: 4.97250000000000\n"
     ]
    },
    {
     "data": {
      "image/png": "[encoded data removed]",
      "text/plain": [
       "<Figure size 1000x600 with 1 Axes>"
      ]
     },
     "metadata": {},
     "output_type": "display_data"
    }
   ],
   "source": [
    "x = sp.Symbol('x')\n",
    "\n",
    "# Define the function\n",
    "y = -2.05 + 1.06*x - 0.04*x**2\n",
    "\n",
    "# Find the derivative\n",
    "dy_dx = sp.diff(y, x)\n",
    "print(f\"First derivative: {dy_dx}\")\n",
    "\n",
    "# Set derivative equal to zero and solve\n",
    "critical_points = sp.solve(dy_dx, x)\n",
    "print(f\"Critical point(s): {critical_points}\")\n",
    "\n",
    "# Check second derivative to confirm it's a maximum\n",
    "d2y_dx2 = sp.diff(dy_dx, x)\n",
    "print(f\"Second derivative: {d2y_dx2}\")\n",
    "\n",
    "# Evaluate second derivative at critical point\n",
    "for point in critical_points:\n",
    "    second_deriv_value = d2y_dx2.subs(x, point)\n",
    "    print(f\"Second derivative at x = {point}: {second_deriv_value}\")\n",
    "    \n",
    "    # If second derivative is negative, it's a maximum\n",
    "    if second_deriv_value < 0:\n",
    "        print(f\"x = {point} is a maximum\")\n",
    "    else:\n",
    "        print(f\"x = {point} is a minimum\")\n",
    "\n",
    "# Calculate the maximum y value\n",
    "max_y = y.subs(x, critical_points[0])\n",
    "print(f\"Maximum y value: {max_y}\")\n",
    "\n",
    "# Visualize the function\n",
    "x_vals = np.linspace(0, 15, 100)\n",
    "y_vals = [-2.05 + 1.06*x_val - 0.04*x_val**2 for x_val in x_vals]\n",
    "\n",
    "plt.figure(figsize=(10, 6))\n",
    "plt.plot(x_vals, y_vals)\n",
    "plt.axvline(x=float(critical_points[0]), color='r', linestyle='--', label=f'Maximum at x = {float(critical_points[0]):.2f}')\n",
    "plt.scatter([float(critical_points[0])], [float(max_y)], color='red', s=100)\n",
    "plt.title('Pork Production Function')\n",
    "plt.xlabel('Work Effort (thousands of hours)')\n",
    "plt.ylabel('Quantity of Pork (millions of pounds)')\n",
    "plt.grid(True)\n",
    "plt.legend()\n",
    "plt.show()"
   ]
  },
  {
   "cell_type": "markdown",
   "id": "fcd6a62f-9475-459e-93c3-324b91d9b829",
   "metadata": {},
   "source": [
    "We can use the `integrate` function to compute an integral. To compute an indefinite integral, (i.e., an antiderivative), we simply pass the variable after the expression.\n",
    "\n",
    "For example, let us calculate the following integral: $$\\int (3x^4 + 5x^2 + 2)dx$$"
   ]
  },
  {
   "cell_type": "code",
   "execution_count": null,
   "id": "4f3ecabd-7fa9-42b3-b223-1814462ede92",
   "metadata": {},
   "outputs": [],
   "source": [
    "x = sp.symbols('x')"
   ]
  },
  {
   "cell_type": "code",
   "execution_count": null,
   "id": "2e00eab2-f170-440f-b2e2-44627ba57f5a",
   "metadata": {},
   "outputs": [],
   "source": [
    "sp.integrate(3*x**4 + 5*x**2 + 2, x)"
   ]
  },
  {
   "cell_type": "markdown",
   "id": "80fe37c4-3acc-4010-8c7c-65cf8f50d1ba",
   "metadata": {},
   "source": [
    "> 📝 **Note:** `integrate` does not add the arbitrary constant $C$ to the solution of an indefinite integral."
   ]
  },
  {
   "cell_type": "markdown",
   "id": "146eca36-96b6-4581-bd2f-6705d88c7f8d",
   "metadata": {},
   "source": [
    "If `integrate` is unable to compute an integral, it simply returns the unevaluated object."
   ]
  },
  {
   "cell_type": "code",
   "execution_count": null,
   "id": "fa914b25-5192-49b4-9b9b-f77f30e14112",
   "metadata": {},
   "outputs": [],
   "source": [
    "sp.integrate(x**x, x)"
   ]
  },
  {
   "cell_type": "markdown",
   "id": "0d50f5de-dec2-496e-a1f9-39526e06f170",
   "metadata": {},
   "source": [
    "To compute a definite integral, we pass the variable as a tuple with a lower and upper limit to the `integrate` function.\n",
    "\n",
    "For example, let us calculate the following integral: $$\\int_{1}^2 (2x + x^2) dx$$"
   ]
  },
  {
   "cell_type": "code",
   "execution_count": null,
   "id": "d056a3b2-dd95-4cd9-8ae3-a2262f9596a1",
   "metadata": {},
   "outputs": [],
   "source": [
    "sp.integrate(2*x + x**2, (x, 1, 2))"
   ]
  },
  {
   "cell_type": "code",
   "execution_count": null,
   "id": "537886d3-4450-48fa-8e54-9e6a3a69a2c8",
   "metadata": {},
   "outputs": [],
   "source": []
  },
  {
   "cell_type": "markdown",
   "id": "d56764a0-eac3-4ffa-ba4b-7b12c0179d17",
   "metadata": {},
   "source": [
    "### Extra: Additional examples from TECH1"
   ]
  },
  {
   "attachments": {},
   "cell_type": "markdown",
   "id": "a4dbe17e-a1f6-4466-86ca-7391fd126b41",
   "metadata": {},
   "source": [
    "**Exercise 9.4.1** Given the function defined by $f(x)=4x^2-40x+80$ for $x \\in [0,8]$, find its maximum and minimum points, and draw its graph."
   ]
  },
  {
   "cell_type": "code",
   "execution_count": null,
   "id": "886bd461-90e4-4d3d-9c49-fa820258e73f",
   "metadata": {},
   "outputs": [],
   "source": [
    "# Create array of x-values and calculate function values\n",
    "xvals = np.linspace(0, 8) \n",
    "yvals = 4*xvals**2 - 40*xvals + 80 "
   ]
  },
  {
   "cell_type": "code",
   "execution_count": null,
   "id": "31e548bb-6e61-454e-adbe-6a2bc3831264",
   "metadata": {},
   "outputs": [],
   "source": [
    "plt.plot(xvals, yvals)\n",
    "plt.xlabel('x')\n",
    "plt.ylabel('y')\n",
    "plt.grid()\n",
    "plt.show()"
   ]
  },
  {
   "cell_type": "code",
   "execution_count": null,
   "id": "47c4a99f-ab16-450f-816f-7dffc2aaf97f",
   "metadata": {},
   "outputs": [],
   "source": [
    "# Solve the first-order derivative to find all critical points\n",
    "x = sp.symbols('x')\n",
    "expr = 4*x**2 - 40*x + 80\n",
    "sp.solve(sp.diff(expr, x, 1))"
   ]
  },
  {
   "cell_type": "code",
   "execution_count": null,
   "id": "6047e509-ae95-437a-8cbf-ae16e7ee1c96",
   "metadata": {},
   "outputs": [],
   "source": [
    "# Function value at lower end point\n",
    "y[0]"
   ]
  },
  {
   "cell_type": "code",
   "execution_count": null,
   "id": "e7fc3d9f-9a30-46a5-95cc-df1b61d7e91d",
   "metadata": {},
   "outputs": [],
   "source": [
    "# Function value at upper end point\n",
    "y[-1]"
   ]
  },
  {
   "cell_type": "markdown",
   "id": "d6651b92-ee6e-4bd7-9874-19a39a419e5f",
   "metadata": {},
   "source": [
    "Based on the graph and the first-order derivative, we conclude that the maximum point of the function occurs at the lower end point ($x=0$), whereas the minimum point occurs at the critical point $x=5$."
   ]
  },
  {
   "attachments": {},
   "cell_type": "markdown",
   "id": "709b2512-655b-4378-b50b-8a46a48022a2",
   "metadata": {},
   "source": [
    "**Example 9.5.2** Suppose that the firm in the preceding example obtains a fixed price $p=121$ per unit, and that the cost function is $C(Q)=0.02Q^3-3Q^2+175Q+500$. The firm can produce at most $\\overline{Q}=110$ units.\n",
    "\n",
    "(a) Make a table of the values of the three functions $R(Q)=121Q$, $C(Q)$, and $\\pi(Q)=R(Q)-C(Q)$, as $Q$ takes the values 0, 10, 30, 50, 70, 90, and 110. Draw the graphs of $R(Q)$ and $C(Q)$ in the same coordinate system."
   ]
  },
  {
   "cell_type": "code",
   "execution_count": null,
   "id": "e9b64ae9-8468-42ca-9efb-464e5a972e9a",
   "metadata": {},
   "outputs": [],
   "source": [
    "q_lst = [0, 10, 30, 50, 70, 90, 110]\n",
    "\n",
    "# Print nice-looking table header\n",
    "print(f'{'Q':>3} | {'R(Q)':>7} | {'C(Q)':>7} | {'Pi(Q)':>7}')\n",
    "print('-'*33)\n",
    "\n",
    "for q in q_lst:\n",
    "    r_q = 121*q  # Calculate revenue\n",
    "    c_q = 0.02*q**3 - 3*q**2 + 175*q + 500 # Calculate cost\n",
    "    pi_q = r_q - c_q  # Calculate profits\n",
    "    print(f'{q:3} | {r_q:7.0f} | {c_q:7.0f} | {pi_q:7.0f}') # Print row"
   ]
  },
  {
   "cell_type": "code",
   "execution_count": null,
   "id": "278ad61b-ce37-4564-911d-4cdaa85b0f77",
   "metadata": {},
   "outputs": [],
   "source": [
    "# Generate array of quantities and calculate revenues and costs\n",
    "q = np.linspace(0, 110)\n",
    "r = 121*q\n",
    "c = 0.02*q**3 - 3*q**2 + 175*q + 500"
   ]
  },
  {
   "cell_type": "code",
   "execution_count": null,
   "id": "f7c25b9b-53fa-4660-b5de-75d458218858",
   "metadata": {},
   "outputs": [],
   "source": [
    "plt.plot(q, r, label = 'Revenue')\n",
    "plt.plot(q, c, label = 'Cost')\n",
    "plt.xlabel('Quantity')\n",
    "plt.legend()\n",
    "plt.title('Figure 9.5.1')\n",
    "plt.grid()\n",
    "plt.show()"
   ]
  },
  {
   "cell_type": "markdown",
   "id": "581b10c5-3c06-4e08-a528-cd2823bd8eb4",
   "metadata": {},
   "source": [
    "(b) Use the graphs in (a) to find approximate answer to the following questions:\n",
    "1. How many units must be produced in order for the firm to make a profit?\n",
    "2. How many units must be produced for the profit to be $2000?\n",
    "3. Which production level maximizes profits?"
   ]
  },
  {
   "cell_type": "markdown",
   "id": "f653a007-9bd2-48b1-ab71-68ab23fd177e",
   "metadata": {},
   "source": [
    "From Figure 9.5.1, we see that the firm must produce approximately 30 units or more to make a profit, produce approximately 50 units for the profit to be $2000, and the profits are maximized at approximately 90 units."
   ]
  },
  {
   "cell_type": "markdown",
   "id": "36d97373-3973-4a86-9fe4-1099422ddd20",
   "metadata": {},
   "source": [
    "(c) Compute an exact answer to question 3 in part (b)."
   ]
  },
  {
   "cell_type": "markdown",
   "id": "df80d5d3-a4af-4a86-9de7-c4a174bd432a",
   "metadata": {},
   "source": [
    "Assuming that the firm has no market power, i.e., the firm is not a monopolist, profits are maximized when $p=C'(Q)$. That is, *production should adjust to a level at which the marginal cost is equal to the price per unit of the commodity*. "
   ]
  },
  {
   "cell_type": "code",
   "execution_count": null,
   "id": "f1554481-aca5-44b4-9832-36d982c2b4e9",
   "metadata": {},
   "outputs": [],
   "source": [
    "# Plot the profits of the firm (pi = r-c)\n",
    "plt.plot(q, r-c, label = 'Profits')\n",
    "plt.xlabel('Quantity')\n",
    "plt.legend()\n",
    "plt.grid()\n",
    "plt.show()"
   ]
  },
  {
   "cell_type": "code",
   "execution_count": null,
   "id": "da567e71-7953-4d71-9518-e4143faf8f8a",
   "metadata": {},
   "outputs": [],
   "source": [
    "# Solve the equation R'(Q)-C'(Q) = 0\n",
    "Q = sp.symbols('Q')\n",
    "expr = sp.diff(121*Q - (0.02*Q**3 - 3*Q**2 + 175*Q + 500), Q, 1)\n",
    "sp.solveset(expr, Q)"
   ]
  },
  {
   "cell_type": "markdown",
   "id": "e668ba32-c2d2-4642-b40f-5d1d65305808",
   "metadata": {},
   "source": [
    "The two critical points are $Q=10$ and $Q=90$, in addition we have the end points $Q=0$ and $Q=110$.\n",
    "\n",
    "From the table in part (a), we see that the maximum function value occurs at $Q=90$."
   ]
  },
  {
   "cell_type": "markdown",
   "id": "23e42658-a865-4b73-86b0-3bfbd97be4ca",
   "metadata": {},
   "source": [
    "(d) Suppose the firm produces at its full capacity of 110 units. What is the smallest price per unit the firm must charge in order not to lose money?"
   ]
  },
  {
   "cell_type": "code",
   "execution_count": null,
   "id": "4abb52d9-7597-47ea-afc3-61e05baa310e",
   "metadata": {},
   "outputs": [],
   "source": [
    "# Solve the equation p*110 - C(110) = 0\n",
    "Q = 110\n",
    "p = sp.symbols('p')\n",
    "expr = p*Q - (0.02*Q**3 - 3*Q**2 + 175*Q + 500)\n",
    "sp.solveset(expr, p)"
   ]
  },
  {
   "cell_type": "markdown",
   "id": "723f5890-08fb-452c-a28d-d155fdb2e7d4",
   "metadata": {},
   "source": [
    "The smallest price $p$ which ensures that the firm does not lose money when producing $Q=110$ is $p \\approx 91.55$."
   ]
  },
  {
   "cell_type": "markdown",
   "id": "dd81c0b0-bcbc-4082-948d-b1b7237f7c6f",
   "metadata": {},
   "source": [
    "**Example 9.5.3** In the model of the previous example, the firm took the price as given. Consider an example at the other extreme, where the firm has a monopoly in the sale of the commodity. Assume that the price $P(Q)$ per unit varies with $Q$ according to the formula $P(Q)=100-\\frac{1}{3}Q$ for $Q \\in [0, 300]$. Suppose now the cost function is\n",
    "\n",
    "$$C(Q) = \\frac{1}{600}Q^3 - \\frac{1}{3}Q^2 + 50Q + \\frac{1000}{3}$$\n",
    "\n",
    "Then the profit is\n",
    "\n",
    "$$ \\pi(Q) = QP(Q) - C(Q) = -\\frac{1}{600}Q^3 + 50Q - \\frac{1000}{3} $$\n",
    "\n",
    "Find the production level that maximizes profits, and compute the maximum profit."
   ]
  },
  {
   "cell_type": "code",
   "execution_count": null,
   "id": "82ec3a94-51bb-493a-9779-41ebc2bc0c6b",
   "metadata": {},
   "outputs": [],
   "source": [
    "# Generate array of quantities and calculate profits\n",
    "q = np.linspace(0, 300)\n",
    "pi = -(1/600)*q**3 + 50*q - (1000/3)\n",
    "\n",
    "# Plot the profit function\n",
    "plt.plot(q, pi)\n",
    "plt.xlabel('Quantity')\n",
    "plt.ylabel('Profits')\n",
    "plt.grid()\n",
    "plt.show()"
   ]
  },
  {
   "cell_type": "code",
   "execution_count": null,
   "id": "f873e778-513a-424f-ae4a-ae2c5e44f205",
   "metadata": {},
   "outputs": [],
   "source": [
    "# # Solve the equation Pi'(Q) = 0\n",
    "Q = sp.symbols('Q')\n",
    "expr = -(1/600)*Q**3 + 50*Q - (1000/3)\n",
    "sp.solveset(sp.diff(expr, Q))"
   ]
  },
  {
   "cell_type": "markdown",
   "id": "c66528f8-ddaf-4daa-bb12-64385e346f72",
   "metadata": {},
   "source": [
    "From the graph, we conclude that profits are maximized at the critical point $Q=100$."
   ]
  },
  {
   "cell_type": "code",
   "execution_count": null,
   "id": "c2c9c011-885d-4f59-b45d-1b30a347d8e6",
   "metadata": {},
   "outputs": [],
   "source": [
    "# Calculate maximum profits\n",
    "opt_q = 100\n",
    "profits = -(1/600)*opt_q**3 + 50*opt_q - (1000/3)\n",
    "print(f'Maximum profits: ${profits:.0f}')"
   ]
  },
  {
   "cell_type": "markdown",
   "id": "79f686c3-d94c-424e-80f0-cb0399b23b55",
   "metadata": {},
   "source": [
    "**Exercise 9.5.2** With reference to Example 9.5.1, let $R(Q)=80Q$ and $C(Q)=Q^2 + 10Q + 900$. The firm can produce at most 50 units.\n",
    "\n",
    "(a) Draw the graphs of $R$ and $C$ in the same coordinate system."
   ]
  },
  {
   "cell_type": "code",
   "execution_count": null,
   "id": "89619440-2b81-4b3e-82f9-639b85f88ea8",
   "metadata": {},
   "outputs": [],
   "source": [
    "# Generate array of quantities and calculate costs and revenues\n",
    "quantity = np.linspace(0, 50)\n",
    "revenue = 80*quantity\n",
    "cost = quantity**2 + 10*quantity + 900\n",
    "\n",
    "# Plot costs and revenues\n",
    "plt.plot(quantity, revenue, label = 'Revenue')\n",
    "plt.plot(quantity, cost, label = 'Cost')\n",
    "plt.xlabel('Q')\n",
    "plt.legend()\n",
    "plt.grid()\n",
    "plt.show()"
   ]
  },
  {
   "cell_type": "markdown",
   "id": "1e60c2b8-4325-4e50-a1b3-c808b62b8d3f",
   "metadata": {},
   "source": [
    "(b) Answer the following questions both graphically and by computation: (i) How many units must be produced for the firm to make a profit? (ii) How many units must be produced for the firm to maximize profits?"
   ]
  },
  {
   "cell_type": "markdown",
   "id": "daa06fda-e029-4737-abb2-97d37279db6a",
   "metadata": {},
   "source": [
    "From the graph, we can see that the firm must produce approximately 17 units to make a profit, and profits are maximized at around 35 units.\n",
    "\n",
    "In addition, let us find the answer analytically:"
   ]
  },
  {
   "cell_type": "code",
   "execution_count": null,
   "id": "00fe01dd-d7d1-4716-9eb4-f92276c07fc4",
   "metadata": {},
   "outputs": [],
   "source": [
    "# Solve the equation R(Q) - C(Q) = 0\n",
    "Q = sp.symbols('Q')\n",
    "expr = 80*Q - (Q**2 + 10*Q + 900)\n",
    "sp.solveset(expr, Q)"
   ]
  },
  {
   "cell_type": "code",
   "execution_count": null,
   "id": "d319070e-a56c-497a-9bf7-7f0701b8a3fe",
   "metadata": {},
   "outputs": [],
   "source": [
    "# Check first solution: \n",
    "print(5*np.sqrt(13) + 35)  # Not feasible since max units is 50"
   ]
  },
  {
   "cell_type": "code",
   "execution_count": null,
   "id": "885cbf19-d8b9-4a05-b3e1-bb5538ae27d6",
   "metadata": {},
   "outputs": [],
   "source": [
    "# Check second solution:\n",
    "print(35 - 5*np.sqrt(13))  # Firm makes a profit at ~17 units"
   ]
  },
  {
   "cell_type": "code",
   "execution_count": null,
   "id": "6ea79490-ab11-4e8b-84d9-e0974a3ae9cd",
   "metadata": {},
   "outputs": [],
   "source": [
    "# Solve the equation R'(Q) - C'(Q) = 0 to find optimal quantity\n",
    "Q = sp.symbols('Q')\n",
    "expr = sp.diff(80*Q - (Q**2 + 10*Q + 900), Q)\n",
    "sp.solveset(expr, Q)"
   ]
  },
  {
   "cell_type": "markdown",
   "id": "9c939076-656e-4e48-b49f-08b9760e44e2",
   "metadata": {},
   "source": [
    "The firm makes a profit at $Q=17$, however, profits are maximized at $Q=35$."
   ]
  },
  {
   "cell_type": "markdown",
   "id": "37842af1-d95b-475d-8cdf-5e645ca0fba0",
   "metadata": {},
   "source": [
    "**Example 10.4.3** Suppose that the inverse demand curve for a commodity is $P=f(Q)=50-0.1Q$ and the inverse supply curve is $P=g(Q)=0.2Q+20$. Find the equilibrium price. Then compute the consumer and producer surplus."
   ]
  },
  {
   "cell_type": "code",
   "execution_count": null,
   "id": "06164ba3-c418-4f44-bd2e-f543de42e76e",
   "metadata": {},
   "outputs": [],
   "source": [
    "# Generate array of quantities and calculate demand and supply\n",
    "quantity = np.linspace(0, 200)\n",
    "demand = 50 - 0.1*quantity\n",
    "supply = 0.2*quantity + 20\n",
    "\n",
    "# Plot demand and supply curves\n",
    "plt.plot(quantity, demand, label = 'Demand f(Q)')\n",
    "plt.plot(quantity, supply, label = 'Supply g(Q)')\n",
    "plt.xlabel('Quantity')\n",
    "plt.legend()\n",
    "plt.grid()\n",
    "plt.show()"
   ]
  },
  {
   "cell_type": "code",
   "execution_count": null,
   "id": "a76d38cc-46ca-4cac-bfd3-841d468bd37d",
   "metadata": {},
   "outputs": [],
   "source": [
    "# Solve the equation f(Q) - g(Q) = 0\n",
    "Q = sp.symbols('Q')\n",
    "expr = (50 - 0.1*Q) - (0.2*Q + 20)\n",
    "opt_q = sp.solve(expr, Q)\n",
    "\n",
    "print(f'Optimal quantity: {opt_q[0]:.0f}')"
   ]
  },
  {
   "cell_type": "code",
   "execution_count": null,
   "id": "c7204cfe-95c5-4982-afa7-ddbb749df184",
   "metadata": {},
   "outputs": [],
   "source": [
    "# Find the equilibrium price\n",
    "opt_p = 50 - 0.1*opt_q[0]  # Demand function\n",
    "#opt_p = 0.2*opt_q[0] + 20  # Supply function\n",
    "\n",
    "print(f'Equilibrium price: {opt_p:.0f}')"
   ]
  },
  {
   "cell_type": "markdown",
   "id": "f9b58b22-6be6-42f1-98dc-2a961fd65f17",
   "metadata": {},
   "source": [
    "Recall that the consumer surplus is the area (triangle) between the demand curve and the optimal price ($P^*$) from 0 to the optimal quantity ($Q^*$), whereas the producer surplus is the area (triangle) between the optimal price ($P^*$) and the supply curve from 0 to the optimal quantity ($Q^*$)."
   ]
  },
  {
   "cell_type": "code",
   "execution_count": null,
   "id": "77ccddcc-23d8-4ccd-a6d3-93c3a3c5e0ec",
   "metadata": {},
   "outputs": [],
   "source": [
    "# Find CS: integrate equation f(Q) - P* from 0 to Q*\n",
    "Q = sp.symbols('Q') \n",
    "expr = (50 - 0.1*Q) - opt_p\n",
    "cs = sp.integrate(expr, (Q, 0, opt_q[0]))\n",
    "\n",
    "print(f'Consumer surplus: {cs:.0f}')"
   ]
  },
  {
   "cell_type": "code",
   "execution_count": null,
   "id": "7dc35a7e-3873-42b5-a037-e6b099fa9a70",
   "metadata": {},
   "outputs": [],
   "source": [
    "# Find ps: integrate equation P* - g(Q) from 0 to Q*\n",
    "Q = sp.symbols('Q') \n",
    "expr = opt_p - (0.2*Q + 20)\n",
    "ps = sp.integrate(expr, (Q, 0, opt_q[0]))\n",
    "\n",
    "print(f'Producer surplus: {ps:.0f}')"
   ]
  },
  {
   "cell_type": "markdown",
   "id": "07854182-4598-44b1-9bab-c9b0ae705e8c",
   "metadata": {},
   "source": [
    "**Exercise 10.4.6** Suppose that the inverse demand and supply curves are, respectively, $P=f(Q)=200-0.2Q$ and $P=g(Q)=20+0.1Q$. Find the equilibrium price and quantity, then compute the consumer and producer surplus."
   ]
  },
  {
   "cell_type": "code",
   "execution_count": null,
   "id": "230749b9-5dd7-4290-9d0c-cc8b211a4d3f",
   "metadata": {},
   "outputs": [],
   "source": [
    "# Generate array of quantities and calculate demand and supply\n",
    "quantity = np.linspace(0, 1000)\n",
    "demand = 200 - 0.2*quantity\n",
    "supply = 20 + 0.1*quantity\n",
    "\n",
    "# Plot demand and supply curves\n",
    "plt.plot(quantity, demand, label = 'Demand f(Q)')\n",
    "plt.plot(quantity, supply, label = 'Supply g(Q)')\n",
    "plt.xlabel('Quantity')\n",
    "plt.legend()\n",
    "plt.grid()\n",
    "plt.show()"
   ]
  },
  {
   "cell_type": "code",
   "execution_count": null,
   "id": "ba631c4e-fdf7-4bcd-a92a-3a0ba77c86a4",
   "metadata": {},
   "outputs": [],
   "source": [
    "# Solve the equation f(Q) - g(Q) = 0\n",
    "Q = sp.symbols('Q')\n",
    "expr = (200 - 0.2*Q) - (20 + 0.1*Q)\n",
    "opt_q = sp.solve(expr, Q)\n",
    "\n",
    "print('Optimal quantity:', round(opt_q[0]))"
   ]
  },
  {
   "cell_type": "code",
   "execution_count": null,
   "id": "7d7b1753-6b23-45a6-b9ef-17eb8c4ee8de",
   "metadata": {},
   "outputs": [],
   "source": [
    "# Find the equilibrium price\n",
    "opt_p = 200 - 0.2*opt_q[0]  # Demand function\n",
    "#opt_p = 20 + 0.1*opt_q[0]  # Supply function\n",
    "\n",
    "print('Equilibrium price:', round(opt_p))"
   ]
  },
  {
   "cell_type": "code",
   "execution_count": null,
   "id": "fafa6088-8301-462d-be7c-3e114c081c8f",
   "metadata": {},
   "outputs": [],
   "source": [
    "# Find cs: integrate equation f(Q) - P* from 0 to Q*\n",
    "Q = sp.symbols('Q') \n",
    "expr = (200 - 0.2*Q) - opt_p\n",
    "cs = sp.integrate(expr, (Q, 0, opt_q[0]))\n",
    "\n",
    "print('Consumer surplus:', round(cs))"
   ]
  },
  {
   "cell_type": "code",
   "execution_count": null,
   "id": "a1a3e624-4b34-4006-b7b5-251a9cd0667c",
   "metadata": {},
   "outputs": [],
   "source": [
    "# Find ps: integrate equation P* - g(Q) from 0 to Q*\n",
    "Q = sp.symbols('Q') \n",
    "expr = opt_p - (20 + 0.1*Q)\n",
    "ps = sp.integrate(expr, (Q, 0, opt_q[0]))\n",
    "\n",
    "print('Producer surplus:', round(ps))"
   ]
  },
  {
   "cell_type": "code",
   "execution_count": null,
   "id": "f25148cc-707e-4e59-a281-938c8e976ac8",
   "metadata": {},
   "outputs": [],
   "source": []
  },
  {
   "cell_type": "code",
   "execution_count": null,
   "id": "1391f9d8-ee26-491c-9d2d-66569adb326d",
   "metadata": {},
   "outputs": [],
   "source": []
  }
 ],
 "metadata": {
  "kernelspec": {
   "display_name": "Python [conda env:base] *",
   "language": "python",
   "name": "conda-base-py"
  },
  "language_info": {
   "codemirror_mode": {
    "name": "ipython",
    "version": 3
   },
   "file_extension": ".py",
   "mimetype": "text/x-python",
   "name": "python",
   "nbconvert_exporter": "python",
   "pygments_lexer": "ipython3",
   "version": "3.13.5"
  }
 },
 "nbformat": 4,
 "nbformat_minor": 5
}
