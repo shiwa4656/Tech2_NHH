{
 "cells": [
  {
   "cell_type": "markdown",
   "metadata": {},
   "source": [
    "# 04 - Functions \n",
    "\n",
    "Up until now, we have executed our programs as series of instructions. However, most programs consists of distinct groups of instructions designed to perform a specific task, i.e., routines. In Python, routines are known as *functions*.\n",
    "\n",
    "A function is a block of code which only runs when it is called. Creating functions offers several advantages, e.g.,:\n",
    "- **Code reusability**: define the function once and use it whenever needed - don't repeat yourself (DRY)!\n",
    "- **Organization**: break down program into smaller, manageable units - improves code organization\n",
    "- **Readability**: giving descriptive names to functions can make the code easier to navigate (for you and others!)\n",
    "- **Abstraction**: don't need to know how the sausage is made (i.e., the code), only need to know how to use the function\n",
    "\n",
    "This notebook shows how we can create our own **self-defined functions** in Python."
   ]
  },
  {
   "cell_type": "code",
   "execution_count": null,
   "metadata": {},
   "outputs": [],
   "source": []
  },
  {
   "cell_type": "markdown",
   "metadata": {},
   "source": [
    "## Creating functions\n",
    "\n",
    "A function is a **named** group of instructions that accomplishes a **specific task**.\n",
    "\n",
    "We have already used several of Python's built-in functions, e.g.:\n",
    "* `print`\n",
    "* `len`\n",
    "* `type`\n",
    "\n",
    "In addition, we have used functions from third-party packages, e.g.:\n",
    "* `sqrt` from `numpy`\n",
    "* `randint` from `random`"
   ]
  },
  {
   "cell_type": "markdown",
   "metadata": {},
   "source": [
    "A function has four characteristics:\n",
    "1. Name\n",
    "2. Task\n",
    "3. Input (also known as parameters)\n",
    "4. Output"
   ]
  },
  {
   "cell_type": "markdown",
   "metadata": {},
   "source": [
    "For example, we have used `len` to calculate the length of sequences, e.g. strings, lists.\n",
    "\n",
    "1. Name: len\n",
    "2. Task: calculate the length of a sequence\n",
    "3. Input: a sequence\n",
    "4. Output: an integer that is the length of the sequence"
   ]
  },
  {
   "cell_type": "code",
   "execution_count": null,
   "metadata": {},
   "outputs": [],
   "source": [
    "len([1, 2, 3, 4, 5, 6, 7])"
   ]
  },
  {
   "cell_type": "markdown",
   "metadata": {},
   "source": [
    "To create our own functions, we must define the function *header* and the function *body*:\n",
    "\n",
    "- Function header:\n",
    "    1. `def` keyword\n",
    "    2. Function name\n",
    "    3. Sequence of inputs enclosed in parenthesis\n",
    "    4. A colon\n",
    "- Function body:\n",
    "    1. Indented block of code\n",
    "    2. `return` statement\n",
    "    \n",
    "    \n",
    " \n",
    "```\n",
    "def function_name(param1, param2...):\n",
    "\n",
    "    <code block>\n",
    "    \n",
    "    return <output>\n",
    "```"
   ]
  },
  {
   "cell_type": "markdown",
   "metadata": {},
   "source": [
    "Let us write a program that calculates the average of three numbers."
   ]
  },
  {
   "cell_type": "code",
   "execution_count": null,
   "metadata": {},
   "outputs": [],
   "source": [
    "num1 = 10\n",
    "num2 = 9\n",
    "num3 = 4\n",
    "\n",
    "avg = (num1 + num2 + num3) / 3\n",
    "\n",
    "print(avg)"
   ]
  },
  {
   "cell_type": "markdown",
   "metadata": {},
   "source": [
    "To increase the reusability of our program, we can place our code inside a function called `avg`."
   ]
  },
  {
   "cell_type": "code",
   "execution_count": null,
   "metadata": {},
   "outputs": [],
   "source": [
    "def avg3(num1, num2, num3):\n",
    "    \n",
    "    avg = (num1 + num2 + num3) / 3\n",
    "    \n",
    "    return avg"
   ]
  },
  {
   "cell_type": "markdown",
   "metadata": {},
   "source": [
    "> 📝 **Note:**  Functions must be defined (i.e., execute the code cell with the function) before we can use them in our program."
   ]
  },
  {
   "cell_type": "markdown",
   "metadata": {},
   "source": [
    "Once a function is defined (i.e., execute the code that defines the function), we can us it as many times as we want to, each time supplying the *function call* with new inputs."
   ]
  },
  {
   "cell_type": "code",
   "execution_count": null,
   "metadata": {},
   "outputs": [],
   "source": [
    "mean = avg3(num1 = 10, num2 = 9, num3 = 4)\n",
    "\n",
    "print(mean)"
   ]
  },
  {
   "cell_type": "code",
   "execution_count": null,
   "metadata": {},
   "outputs": [],
   "source": [
    "mean = avg3(num1 = 1, num2 = 9, num3 = 7)\n",
    "\n",
    "print(mean)"
   ]
  },
  {
   "cell_type": "code",
   "execution_count": null,
   "metadata": {},
   "outputs": [],
   "source": [
    "mean = avg3(num1 = 9.5, num2 = 6.2, num3 = 23)\n",
    "\n",
    "print(mean)"
   ]
  },
  {
   "cell_type": "markdown",
   "metadata": {},
   "source": [
    "<div class=\"alert alert-info\">\n",
    "<h3> Your turn</h3>\n",
    "    <p> Create a function called <TT>avg4</TT> that calculates the average of four numbers.\n",
    "      \n",
    "</div>"
   ]
  },
  {
   "cell_type": "code",
   "execution_count": 1,
   "metadata": {},
   "outputs": [
    {
     "name": "stdout",
     "output_type": "stream",
     "text": [
      "300.0\n"
     ]
    }
   ],
   "source": [
    "def avg4(num1, num2, num3):\n",
    "    mean = (num1 + num2 + num3)/3\n",
    "    return mean\n",
    "\n",
    "x = avg4(200,400,300)\n",
    "print(x)"
   ]
  },
  {
   "cell_type": "markdown",
   "metadata": {},
   "source": [
    "To further increase the reusability of our program, we can instead create a function called `avg_lst` that calculates the average of a *list* of numbers. The function takes only one input (the list of numbers), and it returns the average of that list."
   ]
  },
  {
   "cell_type": "code",
   "execution_count": null,
   "metadata": {},
   "outputs": [],
   "source": [
    "def avg_lst(number_lst):\n",
    "\n",
    "    lst_sum = sum(number_lst)    # sum of the numbers\n",
    "    lst_length = len(number_lst) # lenght of the list\n",
    "    avg = lst_sum / lst_length   # calculate the mean\n",
    "    \n",
    "    return avg"
   ]
  },
  {
   "cell_type": "markdown",
   "metadata": {},
   "source": [
    "We can now use the function to calculate the average of a list of numbers independently of the length of the list."
   ]
  },
  {
   "cell_type": "code",
   "execution_count": null,
   "metadata": {},
   "outputs": [],
   "source": [
    "mean = avg_lst(number_lst = [10, 9, 4, 5, 9, 10, 0])\n",
    "\n",
    "print(mean)"
   ]
  },
  {
   "cell_type": "code",
   "execution_count": null,
   "metadata": {},
   "outputs": [],
   "source": [
    "mean = avg_lst(number_lst = [1, 2, 3])\n",
    "\n",
    "print(mean)"
   ]
  },
  {
   "cell_type": "code",
   "execution_count": null,
   "metadata": {},
   "outputs": [],
   "source": [
    "mean = avg_lst(number_lst = [11.0, 10.5, 5.1, 10, 11])\n",
    "\n",
    "print(mean)"
   ]
  },
  {
   "cell_type": "markdown",
   "metadata": {},
   "source": [
    "We have so far looked at **value-returning functions**:\n",
    "- Use the `return` statement to return the output\n",
    "- The function output can be saved by assigning it to a variable\n",
    "\n",
    "In addition, there are also **non-value returning functions**:\n",
    "- No `return` statement...\n",
    "- ...but have other desirable \"side effects\"\n",
    "- Do not save function output to a variable name "
   ]
  },
  {
   "cell_type": "markdown",
   "metadata": {},
   "source": [
    "For example, let us modify `avg_lst` so that it instead *displays* the average of a list of numbers. We do this by substituting the `return` statement with a `print` statement."
   ]
  },
  {
   "cell_type": "code",
   "execution_count": null,
   "metadata": {},
   "outputs": [],
   "source": [
    "def avg_lst(number_lst):\n",
    "\n",
    "    lst_sum = sum(number_lst)\n",
    "    lst_length = len(number_lst)\n",
    "    avg = lst_sum / lst_length\n",
    "    \n",
    "    print(f'The mean is {avg:.2f}') # no return statement"
   ]
  },
  {
   "cell_type": "markdown",
   "metadata": {},
   "source": [
    "With non-value-returning functions, the function is called without assigning it to a variable."
   ]
  },
  {
   "cell_type": "code",
   "execution_count": null,
   "metadata": {},
   "outputs": [],
   "source": [
    "avg_lst(number_lst = [10, 9, 4, 5, 9, 10, 0])"
   ]
  },
  {
   "cell_type": "markdown",
   "metadata": {},
   "source": [
    "<div class=\"alert alert-info\">\n",
    "<h3> Your turn</h3>\n",
    "    <p> Write a function called <TT>tempConversion</TT> that converts a temperature from Celsius to Fahrenheit. The function takes one input: a temperature in Celsius. The function should print the converted temperature in Fahrenheit.\n",
    "  \n",
    "Recall that the conversion from Celsius to Fahrenheit follows the formula: $F = \\left(\\frac{9}{5}\\right) \\times C + 32$\n",
    "        \n",
    "</div>"
   ]
  },
  {
   "cell_type": "code",
   "execution_count": 5,
   "metadata": {},
   "outputs": [
    {
     "name": "stdout",
     "output_type": "stream",
     "text": [
      "96.8\n"
     ]
    }
   ],
   "source": [
    "def tempConversion(C):\n",
    "     formula = (9/5) * C + 32\n",
    "     print(formula)\n",
    "tempConversion(36)"
   ]
  },
  {
   "cell_type": "markdown",
   "metadata": {},
   "source": [
    "# Assistant\n",
    "# Modifying the avg_lst Function to Handle Empty Lists\n",
    "\n",
    "I'll modify the `avg_lst` function to check if the list is empty before calculating the average. This will prevent the ZeroDivisionError that occurs when trying to calculate the average of an empty list.\n"
   ]
  },
  {
   "cell_type": "code",
   "execution_count": null,
   "metadata": {},
   "outputs": [],
   "source": []
  },
  {
   "cell_type": "markdown",
   "metadata": {},
   "source": [
    "\n",
    "This modified function first checks if the length of the input list is greater than 0. If it is, it calculates and returns the average as before. If the list is empty, it returns a warning message instead of attempting to calculate the average, which would cause a ZeroDivisionError.\n",
    "\n",
    "The function now safely handles both cases:\n",
    "1. For non-empty lists, it returns the average value\n",
    "2. For empty lists, it returns a warning message"
   ]
  },
  {
   "cell_type": "code",
   "execution_count": null,
   "metadata": {},
   "outputs": [],
   "source": []
  },
  {
   "cell_type": "markdown",
   "metadata": {},
   "source": [
    "## Function input\n",
    "\n",
    "To call a function, we must pass **arguments** to the required **parameters** of the function. This is know as *parameter passing*.\n",
    "\n",
    "Note that there are several ways to pass arguments to parameters to a function. "
   ]
  },
  {
   "cell_type": "markdown",
   "metadata": {},
   "source": [
    "The function `division` takes two numbers as parameters (`num1` and `num2`) and it returns the result of dividing the first number on the second number."
   ]
  },
  {
   "cell_type": "code",
   "execution_count": null,
   "metadata": {},
   "outputs": [],
   "source": [
    "def division(num1, num2):\n",
    "    result = num1/num2\n",
    "    return result"
   ]
  },
  {
   "cell_type": "markdown",
   "metadata": {},
   "source": [
    "As before, we can call the function by directly passing arguments to the parameter names in the function call."
   ]
  },
  {
   "cell_type": "code",
   "execution_count": null,
   "metadata": {},
   "outputs": [],
   "source": [
    "division(num1 = 2, num2 = -5)"
   ]
  },
  {
   "cell_type": "markdown",
   "metadata": {},
   "source": [
    "Note that the order of the arguments does not matter when using the `parameter=argument` syntax."
   ]
  },
  {
   "cell_type": "code",
   "execution_count": null,
   "metadata": {},
   "outputs": [],
   "source": [
    "division(num2 = -5, num1 = 2)"
   ]
  },
  {
   "cell_type": "markdown",
   "metadata": {},
   "source": [
    "Note also that we actually don't have to specify the parameter names in the function call. However, in that case, the order of the arguments matter. As a default, the first argument is passed to the first parameter, the second argument is passed to the second parameter etc."
   ]
  },
  {
   "cell_type": "code",
   "execution_count": null,
   "metadata": {},
   "outputs": [],
   "source": [
    "division(2, -5)"
   ]
  },
  {
   "cell_type": "markdown",
   "metadata": {},
   "source": [
    "Alternatively, we can store the arguments in variables, and instead pass the variable names to the parameters in the function call."
   ]
  },
  {
   "cell_type": "code",
   "execution_count": null,
   "metadata": {},
   "outputs": [],
   "source": [
    "a = 2\n",
    "b = -5"
   ]
  },
  {
   "cell_type": "code",
   "execution_count": null,
   "metadata": {},
   "outputs": [],
   "source": [
    "division(num1 = a, num2 = b) "
   ]
  },
  {
   "cell_type": "markdown",
   "metadata": {},
   "source": [
    "As before, we don't have to specify the parameter names in the function call."
   ]
  },
  {
   "cell_type": "code",
   "execution_count": null,
   "metadata": {},
   "outputs": [],
   "source": [
    "division(a, b)"
   ]
  },
  {
   "cell_type": "markdown",
   "metadata": {},
   "source": [
    "However, note that it is the *order* of the arguments in the function call that matters and not the *name* of the arguments (even if we have named the arguments the same as the parameters in the function)."
   ]
  },
  {
   "cell_type": "code",
   "execution_count": null,
   "metadata": {},
   "outputs": [],
   "source": [
    "num1 = 5\n",
    "num2 = 10"
   ]
  },
  {
   "cell_type": "code",
   "execution_count": null,
   "metadata": {},
   "outputs": [],
   "source": [
    "division(num1, num2)"
   ]
  },
  {
   "cell_type": "code",
   "execution_count": null,
   "metadata": {},
   "outputs": [],
   "source": [
    "division(num2, num1)"
   ]
  },
  {
   "cell_type": "markdown",
   "metadata": {},
   "source": [
    "By default, a function must be called with the same number of arguments as parameters."
   ]
  },
  {
   "cell_type": "code",
   "execution_count": null,
   "metadata": {},
   "outputs": [],
   "source": [
    "# TypeError\n",
    "division(5)"
   ]
  },
  {
   "cell_type": "markdown",
   "metadata": {},
   "source": [
    "However, we can give parameters default values when creating the function, in which case it becomes *optional* to pass arguments to these parameters in the function call."
   ]
  },
  {
   "cell_type": "code",
   "execution_count": null,
   "metadata": {},
   "outputs": [],
   "source": [
    "def division(num1, num2 = 10): \n",
    "    result = num1/num2\n",
    "    return result"
   ]
  },
  {
   "cell_type": "code",
   "execution_count": null,
   "metadata": {},
   "outputs": [],
   "source": [
    "division(10) "
   ]
  },
  {
   "cell_type": "code",
   "execution_count": null,
   "metadata": {},
   "outputs": [],
   "source": [
    "division(10, 5) "
   ]
  },
  {
   "attachments": {},
   "cell_type": "markdown",
   "metadata": {},
   "source": [
    "<div class=\"alert alert-info\">\n",
    "<h3> Your turn</h3>\n",
    "    <p> Create a function called <TT>exp</TT> that exponentiates a number, i.e., it raises a number to the $n$th power. The function should have two parameters: the number and the exponent. As a default, the function should raise the number to the power of two. The function should return the output of the operation.\n",
    "\n",
    "</div>"
   ]
  },
  {
   "cell_type": "code",
   "execution_count": null,
   "metadata": {},
   "outputs": [],
   "source": [
    "def exp(number, exponent=2):\n",
    "    return number ** exponent"
   ]
  },
  {
   "cell_type": "code",
   "execution_count": null,
   "metadata": {},
   "outputs": [],
   "source": []
  },
  {
   "cell_type": "markdown",
   "metadata": {},
   "source": [
    "## Function output\n",
    "\n",
    "The return value of a function can be stored by assigning it to a *variable* or it can be used as a part of a larger *expression*."
   ]
  },
  {
   "cell_type": "markdown",
   "metadata": {},
   "source": [
    "Recall that the function `division` has one required parameter, `num1`, and one optional parameter `num2`, and it returns the first number divided by the second number."
   ]
  },
  {
   "cell_type": "code",
   "execution_count": null,
   "metadata": {},
   "outputs": [],
   "source": [
    "def division(num1, num2 = 10): \n",
    "    result = num1/num2\n",
    "    return result"
   ]
  },
  {
   "cell_type": "markdown",
   "metadata": {},
   "source": [
    "We can make a function call to `division` and store the output in a variable, and use the output in another function call."
   ]
  },
  {
   "cell_type": "code",
   "execution_count": null,
   "metadata": {},
   "outputs": [],
   "source": [
    "res1 = division(6, 2)\n",
    "\n",
    "print(res1)"
   ]
  },
  {
   "cell_type": "code",
   "execution_count": null,
   "metadata": {},
   "outputs": [],
   "source": [
    "res2 = division(12, res1)\n",
    "\n",
    "print(res2)"
   ]
  },
  {
   "cell_type": "markdown",
   "metadata": {},
   "source": [
    "Alternatively, we can pass the function call directly as an argument to another function call."
   ]
  },
  {
   "cell_type": "code",
   "execution_count": null,
   "metadata": {},
   "outputs": [],
   "source": [
    "res2 = division(12, division(6, 2))  \n",
    "\n",
    "print(res2)"
   ]
  },
  {
   "cell_type": "markdown",
   "metadata": {},
   "source": [
    "We can also use multiple function calls in an operation."
   ]
  },
  {
   "cell_type": "code",
   "execution_count": null,
   "metadata": {},
   "outputs": [],
   "source": [
    "division(2, 4) * division(8, 3)"
   ]
  },
  {
   "cell_type": "markdown",
   "metadata": {},
   "source": [
    "We can even use function calls directly inside conditional expressions."
   ]
  },
  {
   "cell_type": "code",
   "execution_count": null,
   "metadata": {},
   "outputs": [],
   "source": [
    "a = 5\n",
    "b = 3\n",
    "\n",
    "if division(a, b) >= 1:\n",
    "    print('Equal or larger than 1')\n",
    "else:\n",
    "    print('Smaller than 1')"
   ]
  },
  {
   "cell_type": "markdown",
   "metadata": {},
   "source": [
    "Note that a value-returning function can return both a variable and a value."
   ]
  },
  {
   "cell_type": "code",
   "execution_count": null,
   "metadata": {},
   "outputs": [],
   "source": [
    "def division(num1, num2 = 10):\n",
    "    result = num1/num2  # Store value in variable\n",
    "    return result       # Return variable\n",
    "\n",
    "division(8)"
   ]
  },
  {
   "cell_type": "code",
   "execution_count": null,
   "metadata": {},
   "outputs": [],
   "source": [
    "def division(num1, num2 = 10):\n",
    "    return num1/num2   # Return value directly\n",
    "\n",
    "division(8)"
   ]
  },
  {
   "cell_type": "markdown",
   "metadata": {},
   "source": [
    "A function can even have multiple `return` statements to control which value that should be returned."
   ]
  },
  {
   "cell_type": "code",
   "execution_count": null,
   "metadata": {},
   "outputs": [],
   "source": [
    "def checkAnswer(answer):\n",
    "    if answer in ('A', 'B'):\n",
    "        return True\n",
    "    else:\n",
    "        return False\n",
    "\n",
    "validAnswer = checkAnswer('A')\n",
    "#validAnswer = checkAnswer('C')\n",
    "\n",
    "print(validAnswer)"
   ]
  },
  {
   "cell_type": "markdown",
   "metadata": {},
   "source": [
    "Finally, note that a function can have multiple *return values*."
   ]
  },
  {
   "cell_type": "code",
   "execution_count": null,
   "metadata": {},
   "outputs": [],
   "source": [
    "def calculations(num1, num2):\n",
    "\n",
    "    res1 = num1 * num2\n",
    "    res2 = num1 / num2\n",
    "\n",
    "    return res1, res2 # Return two values"
   ]
  },
  {
   "cell_type": "code",
   "execution_count": null,
   "metadata": {},
   "outputs": [],
   "source": [
    "results = calculations(10, 5)\n",
    "\n",
    "results"
   ]
  },
  {
   "cell_type": "code",
   "execution_count": null,
   "metadata": {},
   "outputs": [],
   "source": []
  },
  {
   "cell_type": "markdown",
   "metadata": {},
   "source": [
    "## Implementing and testing functions\n",
    "\n",
    "When designing functions there are a few conventions that should be followed and common pitfalls that should be avoided."
   ]
  },
  {
   "cell_type": "markdown",
   "metadata": {},
   "source": [
    "**1. Ensure that the function catches all scenarios**\n",
    "\n",
    "Failure to do so can result in errors later on in the program."
   ]
  },
  {
   "cell_type": "code",
   "execution_count": null,
   "metadata": {},
   "outputs": [],
   "source": [
    "def checkNumber(num1, num2):\n",
    "    if num1 > num2:\n",
    "        return 0"
   ]
  },
  {
   "cell_type": "code",
   "execution_count": null,
   "metadata": {},
   "outputs": [],
   "source": [
    "res = checkNumber(20, 10)\n",
    "\n",
    "print(res)"
   ]
  },
  {
   "cell_type": "code",
   "execution_count": null,
   "metadata": {},
   "outputs": [],
   "source": [
    "res = checkNumber(10, 20)\n",
    "\n",
    "print(res)"
   ]
  },
  {
   "cell_type": "markdown",
   "metadata": {},
   "source": [
    "> 📝 **Note:**  The default return value of a function in Python is `None` unless an explicit return value is specified with the `return` statement."
   ]
  },
  {
   "cell_type": "code",
   "execution_count": null,
   "metadata": {},
   "outputs": [],
   "source": [
    "# TypeError (because \"res\" is empty)\n",
    "res * 100  "
   ]
  },
  {
   "cell_type": "markdown",
   "metadata": {},
   "source": [
    "<div class=\"alert alert-info\">\n",
    "<h3> Your turn</h3>\n",
    "    <p> Note that the function <TT>avg_lst</TT> that we created earlier will return a <TT>ZeroDivisionError</TT> if the list of numbers is empty...\n",
    "        \n",
    "Modify the <TT>avg_lst</TT> function so that it check whether the list of numbers is empty or not:\n",
    "        \n",
    "- If the list is not empty, the function should display the average of the numbers. \n",
    "- If the list is empty, then the function should instead display a warning message notifying the user that the list is empty.\n",
    "</div>"
   ]
  },
  {
   "cell_type": "code",
   "execution_count": 6,
   "metadata": {},
   "outputs": [
    {
     "name": "stdout",
     "output_type": "stream",
     "text": [
      "Average of [1, 2, 3, 4, 5]: 3.0\n",
      "Result for empty list: Warning: The list is empty. Cannot calculate average.\n"
     ]
    }
   ],
   "source": [
    "def avg_lst(numbers):\n",
    "    if len(numbers) > 0:\n",
    "        total = sum(numbers)\n",
    "        average = total / len(numbers)\n",
    "        return average\n",
    "    else:\n",
    "        return \"Warning: The list is empty. Cannot calculate average.\"\n",
    "        \n",
    "test_list = [1, 2, 3, 4, 5]\n",
    "print(f\"Average of {test_list}: {avg_lst(test_list)}\")\n",
    "\n",
    "empty_list = []\n",
    "print(f\"Result for empty list: {avg_lst(empty_list)}\")"
   ]
  },
  {
   "cell_type": "markdown",
   "metadata": {},
   "source": [
    "**2. Local versus global variables**\n",
    "\n",
    "Variables that are created within a function are *local* variables. These variables are not available outside the function (unless explicitly returned in the `return` statement). "
   ]
  },
  {
   "cell_type": "code",
   "execution_count": null,
   "metadata": {},
   "outputs": [],
   "source": [
    "def exp2(num):\n",
    "    exponent = 2 # Local variable\n",
    "    return num**exponent"
   ]
  },
  {
   "cell_type": "markdown",
   "metadata": {},
   "source": [
    "We cannot acces local variables outside of the function where they are created."
   ]
  },
  {
   "cell_type": "code",
   "execution_count": null,
   "metadata": {},
   "outputs": [],
   "source": [
    "# NameError \n",
    "exponent"
   ]
  },
  {
   "cell_type": "markdown",
   "metadata": {},
   "source": [
    "Local variables are actually great!🎉 They allow us to re-use variable names in different functions without causing any name conflicts, i.e., overwritting variable names.\n",
    "\n",
    "For example, the variables `exponent` are local to each of the functions `exp2` and `exp3` and they can therefore have two different values even though they share the same name."
   ]
  },
  {
   "cell_type": "code",
   "execution_count": null,
   "metadata": {},
   "outputs": [],
   "source": [
    "def exp3(num):\n",
    "    exponent = 3 # Local variable\n",
    "    return num**exponent\n",
    "\n",
    "exp3(4)"
   ]
  },
  {
   "cell_type": "markdown",
   "metadata": {},
   "source": [
    "The *scope* of a variable is the part of the program in which the variable is \"visible\", i.e., we can access the value.\n",
    "\n",
    "Variables that are defined outside of a function are said to have global scope\" and are often called *global* variables."
   ]
  },
  {
   "cell_type": "code",
   "execution_count": null,
   "metadata": {},
   "outputs": [],
   "source": [
    "num = 10 # Global variable"
   ]
  },
  {
   "cell_type": "markdown",
   "metadata": {},
   "source": [
    "Note that functions can access all global variables even if they are not passed explicitly as an argument to the function call. "
   ]
  },
  {
   "cell_type": "code",
   "execution_count": null,
   "metadata": {},
   "outputs": [],
   "source": [
    "n = 2 # Global variable\n",
    "\n",
    "def exp2(num):\n",
    "    return num**n # Use global variable inside function\n",
    "\n",
    "exp2(num = 4)"
   ]
  },
  {
   "cell_type": "markdown",
   "metadata": {},
   "source": [
    "However, this is BAD🚫🙅 programming practice. Using global variables means that we can no longer view functions as \"black boxes\" that recieve inputs and return an output, which makes our programs more vulnerable to errors. \n",
    "\n",
    "Instead, all variables required by the function should either be defined inside the function:"
   ]
  },
  {
   "cell_type": "code",
   "execution_count": null,
   "metadata": {},
   "outputs": [],
   "source": [
    "def exp2(num):\n",
    "    exponent = 2 # Local variable\n",
    "    return num**exponent\n",
    "\n",
    "exp2(num = 4)"
   ]
  },
  {
   "cell_type": "markdown",
   "metadata": {},
   "source": [
    "Or defined as parameters in the function header:"
   ]
  },
  {
   "cell_type": "code",
   "execution_count": null,
   "metadata": {},
   "outputs": [],
   "source": [
    "n = 2 # Global variable\n",
    "\n",
    "def exp2(num, exponent):\n",
    "    return num**exponent\n",
    "\n",
    "exp2(4, n) # Global variable passed as argument"
   ]
  },
  {
   "cell_type": "markdown",
   "metadata": {},
   "source": [
    "**3. It is good programming practice to place code inside functions**\n",
    "\n",
    "Due to the complexity of many programs, we often prefer to place our code inside one or multiple functions to increase the readability and reusability of the code. In addition, this saves the namespace of our programs, i.e., fewer global variables to keep track of."
   ]
  },
  {
   "cell_type": "markdown",
   "metadata": {},
   "source": [
    "Note that we can actually make function calls inside another function."
   ]
  },
  {
   "cell_type": "code",
   "execution_count": null,
   "metadata": {},
   "outputs": [],
   "source": [
    "def exp(num, exponent):\n",
    "    res = num ** exponent\n",
    "    return res\n",
    "\n",
    "def print_result(a, b):    \n",
    "    res = exp(a, b) # Function call to \"exp\"\n",
    "    print(res)\n",
    "\n",
    "print_result(3, 2)"
   ]
  },
  {
   "cell_type": "markdown",
   "metadata": {},
   "source": [
    "To organize our code, it is common to use a single function to execute the entire program."
   ]
  },
  {
   "cell_type": "markdown",
   "metadata": {},
   "source": [
    "> 📝 **Note:**  It is convention to use the name `main` for the \"mother\" function, i.e., the function that runs the program."
   ]
  },
  {
   "cell_type": "markdown",
   "metadata": {},
   "source": [
    "The `main` function should execute the entire program by making all of the necessary function calls, and it should return and/or display the outcome of the program."
   ]
  },
  {
   "cell_type": "code",
   "execution_count": null,
   "metadata": {},
   "outputs": [],
   "source": [
    "def exp(num, base = 2):\n",
    "    res = num ** base\n",
    "    return res\n",
    "\n",
    "def main(): # \"main\" takes no inputs\n",
    "    \n",
    "    # Define local variables\n",
    "    number = 3\n",
    "    exponent = 2\n",
    "\n",
    "    # Function call to \"exp\"\n",
    "    res = exp(number, exponent) \n",
    "\n",
    "    # Print result\n",
    "    print(f'{number}^{exponent} = {res:.2f}')"
   ]
  },
  {
   "cell_type": "markdown",
   "metadata": {},
   "source": [
    "We can then run the entire program by simply calling the `main` function."
   ]
  },
  {
   "cell_type": "code",
   "execution_count": null,
   "metadata": {},
   "outputs": [],
   "source": [
    "main()"
   ]
  },
  {
   "cell_type": "code",
   "execution_count": null,
   "metadata": {},
   "outputs": [],
   "source": []
  },
  {
   "cell_type": "code",
   "execution_count": null,
   "metadata": {},
   "outputs": [],
   "source": []
  }
 ],
 "metadata": {
  "kernelspec": {
   "display_name": "Python [conda env:base] *",
   "language": "python",
   "name": "conda-base-py"
  },
  "language_info": {
   "codemirror_mode": {
    "name": "ipython",
    "version": 3
   },
   "file_extension": ".py",
   "mimetype": "text/x-python",
   "name": "python",
   "nbconvert_exporter": "python",
   "pygments_lexer": "ipython3",
   "version": "3.13.5"
  }
 },
 "nbformat": 4,
 "nbformat_minor": 4
}
