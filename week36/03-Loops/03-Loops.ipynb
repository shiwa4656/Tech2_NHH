{
 "cells": [
  {
   "cell_type": "markdown",
   "metadata": {},
   "source": [
    "# 03 - Loops\n",
    "\n",
    "As discussed in the previous notebook, there are three fundamental types of control structure in programming:\n",
    "\n",
    "- Sequential - executes code line-by-line (default mode)\n",
    "- Selection - executes a piece of code based on a condition\n",
    "- Iterative - repeats a piece of code multiple times (loops)"
   ]
  },
  {
   "cell_type": "markdown",
   "metadata": {},
   "source": [
    "<img src=\"images/control_structure.png\" width = \"70%\" align=\"left\"/>"
   ]
  },
  {
   "cell_type": "markdown",
   "metadata": {},
   "source": [
    "So far we have executed our code either line-by-line (sequential control) or based on a decision (selection control). However, sometimes we instead want to repeat a block of code a specific number of times or until a condition is met.\n",
    "\n",
    "This notebook gives an introduction to implement iterative control structure in Python with the use of **for loops** and **while loops**."
   ]
  },
  {
   "cell_type": "code",
   "execution_count": null,
   "metadata": {},
   "outputs": [],
   "source": []
  },
  {
   "cell_type": "markdown",
   "metadata": {},
   "source": [
    "## For loops\n",
    "\n",
    "We can use a `for` loop to repeat a block of code a certain number of times."
   ]
  },
  {
   "cell_type": "markdown",
   "metadata": {},
   "source": [
    "A `for` loop iterates over a sequence of values, e.g., string, list, dictionary.\n",
    "\n",
    "It consists of a header starting with the `for` keyword, followed by the *loop variable*, a sequence of values, and then an indentend block of code: \n",
    "\n",
    "```\n",
    "for item in sequence:\n",
    "    <statements>\n",
    "```\n",
    "For each element in the sequence, the block of code inside is executed once. The *loop variable* is the current item in the sequence in a given iteration, and the number of iterations is determined by the length of the sequence. "
   ]
  },
  {
   "cell_type": "markdown",
   "metadata": {},
   "source": [
    "We can loop over all types of sequences, for example a string. We can name the loop variable any legal Python name. Note that we often name the loop variable `i`."
   ]
  },
  {
   "cell_type": "code",
   "execution_count": 2,
   "metadata": {},
   "outputs": [
    {
     "name": "stdout",
     "output_type": "stream",
     "text": [
      "Python"
     ]
    }
   ],
   "source": [
    "for i in 'Python':\n",
    "    print(i, end = \"\")"
   ]
  },
  {
   "cell_type": "markdown",
   "metadata": {},
   "source": [
    "We can also loop over the items in a list. "
   ]
  },
  {
   "cell_type": "code",
   "execution_count": null,
   "metadata": {},
   "outputs": [],
   "source": [
    "name_lst = ['Ole', 'Jenny', 'Chang', 'Jonas']"
   ]
  },
  {
   "cell_type": "markdown",
   "metadata": {},
   "source": [
    "Note that it can be wise to give the loop variable an explanatory name instead of simply `i`."
   ]
  },
  {
   "cell_type": "code",
   "execution_count": null,
   "metadata": {},
   "outputs": [],
   "source": [
    "for name in name_lst:\n",
    "    print(name)"
   ]
  },
  {
   "cell_type": "markdown",
   "metadata": {},
   "source": [
    "We can loop over the items in a sequence and do operations on the items, e.g. convert letters to uppercase."
   ]
  },
  {
   "cell_type": "code",
   "execution_count": null,
   "metadata": {},
   "outputs": [],
   "source": [
    "for name in name_lst:\n",
    "    print(name.upper())"
   ]
  },
  {
   "cell_type": "markdown",
   "metadata": {},
   "source": [
    "<div class=\"alert alert-info\">\n",
    "<h3> Your turn</h3>\n",
    "    <p> The following list contains all of the names of the days in the week: <TT>days = ['Monday', 'Tuesday', 'Wednesday', 'Thursday', 'Friday', 'Saturday', 'Sunday']</TT>. \n",
    "        \n",
    "Loop over the list and print each name but without \"day\" at the end.\n",
    "        \n",
    "</div>"
   ]
  },
  {
   "cell_type": "code",
   "execution_count": 7,
   "metadata": {},
   "outputs": [
    {
     "name": "stdout",
     "output_type": "stream",
     "text": [
      "Mon \n",
      "Tues \n",
      "Wednes \n",
      "Thurs \n",
      "Fri \n",
      "Satur \n",
      "Sun \n"
     ]
    }
   ],
   "source": [
    "week_Days = ['Monday', 'Tuesday', 'Wednesday', 'Thursday', 'Friday', 'Saturday', 'Sunday']\n",
    "for i in week_Days:\n",
    "    print(i.replace(\"day\", \" \"))"
   ]
  },
  {
   "cell_type": "markdown",
   "metadata": {},
   "source": [
    "Python has a built-in function called `range`, which we can use to build a sequence of integers to loop over. \n",
    "\n",
    "However, note that `range` does not actually create a sequence. Instead, it is a generator function that produces the item in the sequence only when the item is actually reached in the loop (saves memory)."
   ]
  },
  {
   "cell_type": "code",
   "execution_count": null,
   "metadata": {},
   "outputs": [],
   "source": [
    "range(0, 10) "
   ]
  },
  {
   "cell_type": "code",
   "execution_count": null,
   "metadata": {},
   "outputs": [],
   "source": [
    "for i in range(0, 10):\n",
    "    print(i)"
   ]
  },
  {
   "cell_type": "markdown",
   "metadata": {},
   "source": [
    "As a default, `range` starts with the integer 0. Since `range` returns integers, we can also perform arithmetic operations on the integers in the loop."
   ]
  },
  {
   "cell_type": "code",
   "execution_count": null,
   "metadata": {},
   "outputs": [],
   "source": [
    "for i in range(10):\n",
    "    num2 = i**2\n",
    "    \n",
    "    print(num2)"
   ]
  },
  {
   "cell_type": "markdown",
   "metadata": {},
   "source": [
    "However, note that `num2` is assigned a new value in each iteration, meaning that only the last calculation is stored in our program."
   ]
  },
  {
   "cell_type": "code",
   "execution_count": null,
   "metadata": {},
   "outputs": [],
   "source": [
    "num2"
   ]
  },
  {
   "cell_type": "markdown",
   "metadata": {},
   "source": [
    "If we want to store all of the calculations inside the loop, we can do so by creating an empty list and use `append` to store the calculation in the list in each iteration."
   ]
  },
  {
   "cell_type": "code",
   "execution_count": null,
   "metadata": {},
   "outputs": [],
   "source": [
    "num2_lst = []\n",
    "\n",
    "for i in range(10):\n",
    "    num2 = i**2 \n",
    "    num2_lst.append(num2) "
   ]
  },
  {
   "cell_type": "code",
   "execution_count": null,
   "metadata": {},
   "outputs": [],
   "source": [
    "num2_lst"
   ]
  },
  {
   "cell_type": "markdown",
   "metadata": {},
   "source": [
    "As a defult, `range` builds a sequence of integers with a step size of 1. However, we can provide `range` with a different step size."
   ]
  },
  {
   "cell_type": "code",
   "execution_count": null,
   "metadata": {},
   "outputs": [],
   "source": [
    "for i in range(0, 10, 2):\n",
    "    print(i)"
   ]
  },
  {
   "cell_type": "markdown",
   "metadata": {},
   "source": [
    "We can even use `range` to build a sequence of decreasing and/or negative integers."
   ]
  },
  {
   "cell_type": "code",
   "execution_count": null,
   "metadata": {},
   "outputs": [],
   "source": [
    "for i in range(-10, -1, 2):\n",
    "    print(i)"
   ]
  },
  {
   "cell_type": "markdown",
   "metadata": {},
   "source": [
    "We can also combine loops with `if` statements in case we only want to execute the code *if* a condition is met."
   ]
  },
  {
   "cell_type": "code",
   "execution_count": null,
   "metadata": {},
   "outputs": [],
   "source": [
    "for num in range(1, 7):\n",
    "    if num != 5:\n",
    "        print(num)"
   ]
  },
  {
   "cell_type": "markdown",
   "metadata": {},
   "source": [
    "<div class=\"alert alert-info\">\n",
    "<h3> Your turn</h3>\n",
    "    <p> The following list contains all of the names of the days in the week: <TT>days = ['Monday', 'Tuesday', 'Wednesday', 'Thursday', 'Friday', 'Saturday', 'Sunday']</TT>. \n",
    "\n",
    "Write a <TT>for</TT> loop that:\n",
    "- use the <TT>range</TT> function to loop over the list\n",
    "- appends the names in uppercase to a new list but only if the day does not begin with a \"T\"\n",
    "        \n",
    "</div>"
   ]
  },
  {
   "cell_type": "code",
   "execution_count": 21,
   "metadata": {},
   "outputs": [
    {
     "data": {
      "text/plain": [
       "['MONDAY', 'WEDNESDAY', 'FRIDAY', 'SATURDAY', 'SUNDAY']"
      ]
     },
     "execution_count": 21,
     "metadata": {},
     "output_type": "execute_result"
    }
   ],
   "source": [
    "days = ['Monday', 'Tuesday', 'Wednesday', 'Thursday', 'Friday', 'Saturday', 'Sunday']\n",
    "new_list = []\n",
    "for i in range(len(days)):\n",
    "    if days[i][0] != \"T\":\n",
    "      new_list.append(days[i].upper())\n",
    "(new_list)\n",
    "    "
   ]
  },
  {
   "cell_type": "markdown",
   "metadata": {},
   "source": [
    "As dictionaries are also a type of sequence, we can loop over dictionaries as well."
   ]
  },
  {
   "cell_type": "code",
   "execution_count": null,
   "metadata": {},
   "outputs": [],
   "source": [
    "student = {\n",
    "    'name' : 'Anne Smith',\n",
    "    'student_no' : 's1234',\n",
    "    'course' : 'MATH101',\n",
    "    'score' :  82\n",
    "}\n",
    "\n",
    "student"
   ]
  },
  {
   "cell_type": "markdown",
   "metadata": {},
   "source": [
    "However, note that a simple `for` loop will iterate over the *keys* of the dictionaries."
   ]
  },
  {
   "cell_type": "code",
   "execution_count": null,
   "metadata": {},
   "outputs": [],
   "source": [
    "for i in student:\n",
    "    print(i)"
   ]
  },
  {
   "cell_type": "markdown",
   "metadata": {},
   "source": [
    "If we instead want to access the values in the dictionary, we must \"look up\" the value using the key inside the loop. "
   ]
  },
  {
   "cell_type": "code",
   "execution_count": null,
   "metadata": {},
   "outputs": [],
   "source": [
    "for key in student:\n",
    "    print(student[key])"
   ]
  },
  {
   "cell_type": "markdown",
   "metadata": {},
   "source": [
    "Alternatively, we can use the `items` function to access both the key-value pair in a dictionary."
   ]
  },
  {
   "cell_type": "code",
   "execution_count": null,
   "metadata": {},
   "outputs": [],
   "source": [
    "for item in student.items():\n",
    "    print(item)"
   ]
  },
  {
   "cell_type": "code",
   "execution_count": null,
   "metadata": {},
   "outputs": [],
   "source": []
  },
  {
   "cell_type": "markdown",
   "metadata": {},
   "source": [
    "## While loops\n",
    "\n",
    "We can use a `while` loop to repeat a code block until a condition is no longer `True`. \n",
    "\n",
    "The `while` statement consists of a header starting with the `while` keyword, followed by a *boolean* condition, and then an indentend block of code: \n",
    "```\n",
    "while condition:\n",
    "    <statements>\n",
    "```\n",
    "The block of code will be executed repeatedly until the condition is no longer `True`, i.e., it is now `False`."
   ]
  },
  {
   "cell_type": "markdown",
   "metadata": {},
   "source": [
    "For example, we can use a `while` loop to add all integers from 1 to 5."
   ]
  },
  {
   "cell_type": "code",
   "execution_count": null,
   "metadata": {},
   "outputs": [],
   "source": [
    "total = 0 # initialize the sum\n",
    "i = 1     # initialize the \"counter\"\n",
    "\n",
    "while i < 6:\n",
    "    total = total + i # add \"i\" to \"total\" \n",
    "    i = i + 1         # increment \"i\" by 1\n",
    "\n",
    "print(total)"
   ]
  },
  {
   "cell_type": "markdown",
   "metadata": {},
   "source": [
    "Note that `i` in the loop above is known as a \"counter\" variable, i.e., it counts the number of iterations. It can be helpful to add `print` statements inside the loop in order to see the output of each iteration."
   ]
  },
  {
   "cell_type": "code",
   "execution_count": null,
   "metadata": {},
   "outputs": [],
   "source": [
    "total = 0\n",
    "i = 1\n",
    "\n",
    "while i < 6:\n",
    "    print(f'Iteration number {i}:')\n",
    "    \n",
    "    total = total + i\n",
    "    i = i + 1\n",
    "\n",
    "    print(f'...total = {total}')\n",
    "    print(f'...i = {i}\\n')"
   ]
  },
  {
   "cell_type": "markdown",
   "metadata": {},
   "source": [
    "The number of iterations in a `while` loop depends on the initial conditions. We need to be careful in designing the boolean condition that decides when to terminate the loop. For example, the statement `while i < 5` will terminate the loop one iteration too early in the example above.\n",
    "\n",
    "Although we can start the counter variable at 1, it is common to start the counter variable at zero."
   ]
  },
  {
   "cell_type": "code",
   "execution_count": null,
   "metadata": {},
   "outputs": [],
   "source": [
    "TARGET = 6\n",
    "#TARGET = 5\n",
    "\n",
    "total = 0\n",
    "i = 0 # start counter at zero\n",
    "\n",
    "while i < TARGET:\n",
    "    print(f'Iteration number {i+1}') # add 1 to counter since it now starts at zero\n",
    "    \n",
    "    total = total + i\n",
    "    i = i + 1\n",
    "\n",
    "    print(f'...total = {total}')\n",
    "    print(f'...i = {i}')"
   ]
  },
  {
   "cell_type": "markdown",
   "metadata": {},
   "source": [
    "Note that it is possible that the boolean condition is `False` even in the first iteration, in which case the loop will terminate before the first iteration, i.e., the loop is never executed."
   ]
  },
  {
   "cell_type": "code",
   "execution_count": null,
   "metadata": {},
   "outputs": [],
   "source": [
    "TARGET = 0\n",
    "\n",
    "total = 0\n",
    "i = 0\n",
    "\n",
    "while i < TARGET:\n",
    "    print(f'Iteration number {i+1}:')\n",
    "    \n",
    "    total = total + i\n",
    "    i = i + 1"
   ]
  },
  {
   "cell_type": "markdown",
   "metadata": {},
   "source": [
    "<div class=\"alert alert-info\">\n",
    "<h3> Your turn</h3>\n",
    "    <p> Use a <TT>while</TT> loop to square all integers from 0 to 9 and store the squared number in a list called <TT>num_lst</TT>.\n",
    "        \n",
    "</div>"
   ]
  },
  {
   "cell_type": "code",
   "execution_count": 24,
   "metadata": {},
   "outputs": [
    {
     "name": "stdout",
     "output_type": "stream",
     "text": [
      "[0, 1, 4, 9, 16, 25, 36, 49, 64, 81]\n"
     ]
    }
   ],
   "source": [
    "numb_list = []\n",
    "i =0\n",
    "while i < 10:\n",
    "    numb_list.append(i ** 2)\n",
    "    i += 1\n",
    "print(numb_list)"
   ]
  },
  {
   "cell_type": "markdown",
   "metadata": {},
   "source": [
    "In general, there are three types of `while` loops:\n",
    "1. Definite loops: we can determine the number of iterations before the loop is executed\n",
    "2. Indefinate loops: terminates but we cannot determine the number of iterations before the loop is executed\n",
    "3. Infinite loops: never terminates"
   ]
  },
  {
   "cell_type": "markdown",
   "metadata": {},
   "source": [
    "**1. Definite loops**\n",
    "\n",
    "In the following loop, the number of iterations can be determined by the initial conditions."
   ]
  },
  {
   "cell_type": "code",
   "execution_count": null,
   "metadata": {},
   "outputs": [],
   "source": [
    "N = 1\n",
    "#N = 2\n",
    "#N = 3\n",
    "#N = 4\n",
    "\n",
    "counter = 0\n",
    "\n",
    "while counter < N:\n",
    "    counter = counter + 1\n",
    "    print(counter)"
   ]
  },
  {
   "cell_type": "markdown",
   "metadata": {},
   "source": [
    "**2. Indefinite loops**\n",
    "\n",
    "Indefinate loops are often used to check that user-supplied inputs are valid. The loop will terminate once the user has supplied a valid input."
   ]
  },
  {
   "cell_type": "code",
   "execution_count": null,
   "metadata": {},
   "outputs": [],
   "source": [
    "choice = input('Choose A or B: ')\n",
    "\n",
    "while choice not in ('A', 'B'):\n",
    "    print('Invalid input!')\n",
    "    \n",
    "    choice = input('Choose A or B: ')\n",
    "\n",
    "print(f'You selected: {choice}')"
   ]
  },
  {
   "cell_type": "markdown",
   "metadata": {},
   "source": [
    "Note that instead of using a Boolean condition in the `while` statement, we often use what is known as a *boolean flag*.\n",
    "\n",
    "A boolean flag is simply a variable of the boolean data type (`True` or `False`) used to signal a specific state or condition within a program."
   ]
  },
  {
   "cell_type": "code",
   "execution_count": null,
   "metadata": {
    "scrolled": true
   },
   "outputs": [],
   "source": [
    "validInput = False # initialize flag (assume not valid input)\n",
    "\n",
    "while not validInput:\n",
    "    \n",
    "    # Prompt for input\n",
    "    choice = input('Choose A or B: ')\n",
    "    \n",
    "    # Change flag if input is valid\n",
    "    if choice in ('A', 'B'):\n",
    "        validInput = True\n",
    "    else:\n",
    "        print('Invalid input!')\n",
    "\n",
    "print(f'You selected: {choice}')"
   ]
  },
  {
   "cell_type": "markdown",
   "metadata": {},
   "source": [
    "**3. Infinite loops**\n",
    "\n",
    "The following loop will never terminate due to the condition never becoming `True`."
   ]
  },
  {
   "cell_type": "code",
   "execution_count": null,
   "metadata": {},
   "outputs": [],
   "source": [
    "total = 0\n",
    "counter = 0\n",
    "\n",
    "while counter < 3:\n",
    "    \n",
    "    total = total + 10\n",
    "    #counter = counter + 1 \n",
    "\n",
    "print(total)"
   ]
  },
  {
   "cell_type": "markdown",
   "metadata": {},
   "source": [
    "> 💡 **Tip:** If you accidentially create an infinite loop, you can terminate the program by pressing `Kernel` &rarr; `Interrupt Kernel` in the menu."
   ]
  },
  {
   "cell_type": "markdown",
   "metadata": {},
   "source": [
    "However, there are some cases in which we create infininte loops intentionally. For example, we can combine an infinite loop with the `break` statement to handle user input."
   ]
  },
  {
   "cell_type": "code",
   "execution_count": null,
   "metadata": {},
   "outputs": [],
   "source": [
    "while True:\n",
    "    \n",
    "    # Prompt for input\n",
    "    choice = input('Choose A or B: ')\n",
    "\n",
    "    # Break loop if valid input\n",
    "    if choice in ('A', 'B'):\n",
    "        break\n",
    "    else:\n",
    "        print('Invalid input.')"
   ]
  },
  {
   "cell_type": "markdown",
   "metadata": {},
   "source": [
    "**`while` loops vs `for` loops** \n",
    "\n",
    "It is generally easier to determine the number of iterations in a `for` loop than in a `while` loop, and there tends to be more potential pitfalls when designing a `while` loop (risk of infinite loop).\n",
    "\n",
    "Use a `for` loop when:\n",
    "- You know the number of iterations in advance.\n",
    "- You are iterating over a sequence (e.g., string, list, dictionary etc).\n",
    "\n",
    "Use a `while` loop when:\n",
    "- The number of iterations is unknown and depends on a condition.\n",
    "- You need to repeat a task until an external event occurs (e.g., user supplies valid input)."
   ]
  },
  {
   "cell_type": "code",
   "execution_count": null,
   "metadata": {},
   "outputs": [],
   "source": []
  },
  {
   "cell_type": "markdown",
   "metadata": {},
   "source": [
    "## Nested loops\n",
    "\n",
    "As we saw with `if` statements, loops can also be nested to deal with more complex problems in programming. \n",
    "\n",
    "Nested loops involve placing one loop inside another. This structure is used when a task needs to be repeated multiple times within another repeated task. The outer loop controls the overall iterations, and for each iteration of the outer loop, the inner loop completes all of its own iterations:\n",
    "\n",
    "```\n",
    "for i in sequence1:\n",
    "    <statements for outer loop>\n",
    "    for j in sequence2:\n",
    "        <statements for inner loop>\n",
    "```\n",
    "Importantly, we must give the loop variable in the inner loop a different name than the loop variables in the outer loop."
   ]
  },
  {
   "cell_type": "markdown",
   "metadata": {},
   "source": [
    "In the following example, the outer loop iterates three times, whereas the inner loop iterates two times. In total, we have six print statements."
   ]
  },
  {
   "cell_type": "code",
   "execution_count": null,
   "metadata": {},
   "outputs": [],
   "source": [
    "for i in range(1, 4): # outer loop\n",
    "    for j in range(1, 3): # inner loop\n",
    "        print(f'Outer loop iteration: {i}, Inner loop iteration: {j}')"
   ]
  },
  {
   "cell_type": "markdown",
   "metadata": {},
   "source": [
    "Note that we can also have a seperate code block (i.e., statements) for the outer loop, in which case the code is only executed once for each iteration of the outer loop."
   ]
  },
  {
   "cell_type": "code",
   "execution_count": null,
   "metadata": {},
   "outputs": [],
   "source": [
    "for i in range(1, 4):\n",
    "    print(f'i = {i}')\n",
    "    for j in range(1, 3):\n",
    "        print(f'...j = {j}')"
   ]
  },
  {
   "cell_type": "markdown",
   "metadata": {},
   "source": [
    "Nested loops can be very useful when working with multidimensional data such as nested lists. In the following example, we use a nested `for` loop to print the data in a 3x3 matrix stored as a nested list."
   ]
  },
  {
   "cell_type": "code",
   "execution_count": null,
   "metadata": {},
   "outputs": [],
   "source": [
    "matrix = [\n",
    "    [1, 2, 3],\n",
    "    [4, 5, 6],\n",
    "    [7, 8, 9]\n",
    "]\n",
    "\n",
    "for row in matrix:\n",
    "    for value in row:\n",
    "        print(value, end = ' ')\n",
    "    print()  # newline after each row"
   ]
  },
  {
   "cell_type": "markdown",
   "metadata": {},
   "source": [
    "Another example of multidimensional data is a dictionary in which the values associated with each key is a list. In the following example, we use a nested `for` loop to print the scores of each students."
   ]
  },
  {
   "cell_type": "code",
   "execution_count": null,
   "metadata": {},
   "outputs": [],
   "source": [
    "grades = {\n",
    "    'Alice': [85, 90, 78],\n",
    "    'Bob': [92, 88, 95],\n",
    "    'Charlie': [70, 75, 80]\n",
    "}\n",
    "\n",
    "for student, scores in grades.items():\n",
    "    print(f'Grades for {student}:')\n",
    "    for score in scores:\n",
    "        print(f' - {score}')"
   ]
  },
  {
   "cell_type": "markdown",
   "metadata": {},
   "source": [
    "<div class=\"alert alert-info\">\n",
    "<h3> Your turn</h3>\n",
    "    <p> Use two nested <TT>for</TT> loops to print a multiplication table for numbers from 1 to 5. The table should look something like this: <br/>\n",
    "<TT>\n",
    "1\t2\t3\t4\t5 <br/>\n",
    "2\t4\t6\t8\t10 <br/>\n",
    "3\t6\t9\t12\t15 <br/>\n",
    "4\t8\t12\t16\t20 <br/>\n",
    "5\t10\t15\t20\t25\n",
    "</TT>\n",
    "</div>"
   ]
  },
  {
   "cell_type": "code",
   "execution_count": 25,
   "metadata": {},
   "outputs": [
    {
     "name": "stdout",
     "output_type": "stream",
     "text": [
      "1 2 3 4 5\n",
      "2 4 6 8 10\n",
      "3 6 9 12 15\n",
      "4 8 12 16 20\n",
      "5 10 15 20 25\n"
     ]
    }
   ],
   "source": [
    "for i in range(1, 6):  \n",
    "    row = \"\"\n",
    "    for j in range(1, 6):  \n",
    "        row += str(i * j) + \" \"\n",
    "    print(row.strip())"
   ]
  },
  {
   "cell_type": "markdown",
   "metadata": {},
   "source": [
    "We can also create a nested `while` loop. For example, let us use a nested `while` loop to print the sequence of numbers 0-9 five times."
   ]
  },
  {
   "cell_type": "code",
   "execution_count": null,
   "metadata": {},
   "outputs": [],
   "source": [
    "i = 1\n",
    "while i <= 5:\n",
    "    j = 1  # reset inner loop variable for each outer iteration\n",
    "    while j <= 9:\n",
    "        print(j, end = ' ')\n",
    "        j += 1\n",
    "    print()\n",
    "    i += 1 # increment outer loop variable"
   ]
  },
  {
   "cell_type": "markdown",
   "metadata": {},
   "source": [
    "We can even combine `while` and `for` loops in a nested structure."
   ]
  },
  {
   "cell_type": "code",
   "execution_count": null,
   "metadata": {},
   "outputs": [],
   "source": [
    "while True:\n",
    "    word = input('Enter a word (or press Q to quit): ')\n",
    "    if word == 'Q':\n",
    "        break\n",
    "    for letter in word:\n",
    "        print(letter)"
   ]
  },
  {
   "cell_type": "code",
   "execution_count": null,
   "metadata": {},
   "outputs": [],
   "source": []
  },
  {
   "cell_type": "code",
   "execution_count": null,
   "metadata": {},
   "outputs": [],
   "source": []
  }
 ],
 "metadata": {
  "kernelspec": {
   "display_name": "Python [conda env:base] *",
   "language": "python",
   "name": "conda-base-py"
  },
  "language_info": {
   "codemirror_mode": {
    "name": "ipython",
    "version": 3
   },
   "file_extension": ".py",
   "mimetype": "text/x-python",
   "name": "python",
   "nbconvert_exporter": "python",
   "pygments_lexer": "ipython3",
   "version": "3.13.5"
  }
 },
 "nbformat": 4,
 "nbformat_minor": 4
}
